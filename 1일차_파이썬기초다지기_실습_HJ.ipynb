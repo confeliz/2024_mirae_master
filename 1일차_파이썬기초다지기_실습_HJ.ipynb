{
  "cells": [
    {
      "cell_type": "markdown",
      "metadata": {
        "id": "view-in-github",
        "colab_type": "text"
      },
      "source": [
        "<a href=\"https://colab.research.google.com/github/confeliz/2024_mirae_master/blob/main/1%EC%9D%BC%EC%B0%A8_%ED%8C%8C%EC%9D%B4%EC%8D%AC%EA%B8%B0%EC%B4%88%EB%8B%A4%EC%A7%80%EA%B8%B0_%EC%8B%A4%EC%8A%B5_HJ.ipynb\" target=\"_parent\"><img src=\"https://colab.research.google.com/assets/colab-badge.svg\" alt=\"Open In Colab\"/></a>"
      ]
    },
    {
      "cell_type": "markdown",
      "metadata": {
        "id": "zRxHpy-28GGG"
      },
      "source": [
        "# 1일차-파이썬 기초 다지기"
      ]
    },
    {
      "cell_type": "markdown",
      "metadata": {
        "id": "VRVM91mPB34V"
      },
      "source": [
        "## 1.파이썬 이해하기"
      ]
    },
    {
      "cell_type": "markdown",
      "metadata": {
        "id": "hOwZhukd8GGK"
      },
      "source": [
        "### 파이썬 버전 확인"
      ]
    },
    {
      "cell_type": "code",
      "source": [
        "!python --version\n"
      ],
      "metadata": {
        "id": "WCJ5nbOTB5ZF",
        "colab": {
          "base_uri": "https://localhost:8080/"
        },
        "outputId": "1e0e8086-d914-4427-fb43-cdf950fd87c4"
      },
      "execution_count": null,
      "outputs": [
        {
          "output_type": "stream",
          "name": "stdout",
          "text": [
            "Python 3.10.12\n"
          ]
        }
      ]
    },
    {
      "cell_type": "markdown",
      "metadata": {
        "id": "HAFtSTG28GGL"
      },
      "source": [
        "### 파이썬 설치 위치 확인"
      ]
    },
    {
      "cell_type": "code",
      "execution_count": null,
      "metadata": {
        "id": "46cMOIHW8GGM",
        "colab": {
          "base_uri": "https://localhost:8080/",
          "height": 54
        },
        "outputId": "e07f2ba1-b30c-4196-b550-6530f2785166"
      },
      "outputs": [
        {
          "output_type": "stream",
          "name": "stdout",
          "text": [
            "3.10.12 (main, Sep 11 2024, 15:47:36) [GCC 11.4.0]\n"
          ]
        },
        {
          "output_type": "execute_result",
          "data": {
            "text/plain": [
              "'3.10.12 (main, Sep 11 2024, 15:47:36) [GCC 11.4.0]'"
            ],
            "application/vnd.google.colaboratory.intrinsic+json": {
              "type": "string"
            }
          },
          "metadata": {},
          "execution_count": 2
        }
      ],
      "source": [
        "import sys\n",
        "print(sys.version)\n",
        "sys.version"
      ]
    },
    {
      "cell_type": "code",
      "source": [
        "import sys\n",
        "print(sys.executable)"
      ],
      "metadata": {
        "colab": {
          "base_uri": "https://localhost:8080/"
        },
        "id": "JE63UmO8zBk8",
        "outputId": "31e6caf2-0411-4305-cc78-9ab8710733c6"
      },
      "execution_count": null,
      "outputs": [
        {
          "output_type": "stream",
          "name": "stdout",
          "text": [
            "/usr/bin/python3\n"
          ]
        }
      ]
    },
    {
      "cell_type": "markdown",
      "metadata": {
        "id": "BVZeLUFeILol"
      },
      "source": [
        "### [실습] 파이썬 정보 확인하기\n",
        "\n",
        "\n",
        "1.   설치된 파이썬 버전 출력하기\n",
        "2.   파이썬 실행파일 위치 출력하기\n",
        "\n"
      ]
    },
    {
      "cell_type": "code",
      "execution_count": null,
      "metadata": {
        "id": "wYTlynjPIaj4"
      },
      "outputs": [],
      "source": [
        "import sys\n",
        "\n",
        "print(f'설치된 파이썬 버전: { }')\n",
        "print(f'파이썬 실행파일 위치: { }')"
      ]
    },
    {
      "cell_type": "markdown",
      "metadata": {
        "id": "KE15Fd6jCbUK"
      },
      "source": [
        "### 라이브러리 설치하기"
      ]
    },
    {
      "cell_type": "code",
      "execution_count": null,
      "metadata": {
        "id": "PlG-i1fYCbdI",
        "colab": {
          "base_uri": "https://localhost:8080/"
        },
        "outputId": "edd5813c-872e-40f0-aee7-c88c449ae0b0"
      },
      "outputs": [
        {
          "output_type": "stream",
          "name": "stdout",
          "text": [
            "Requirement already satisfied: missingno in /usr/local/lib/python3.10/dist-packages (0.5.2)\n",
            "Requirement already satisfied: numpy in /usr/local/lib/python3.10/dist-packages (from missingno) (1.26.4)\n",
            "Requirement already satisfied: matplotlib in /usr/local/lib/python3.10/dist-packages (from missingno) (3.7.1)\n",
            "Requirement already satisfied: scipy in /usr/local/lib/python3.10/dist-packages (from missingno) (1.13.1)\n",
            "Requirement already satisfied: seaborn in /usr/local/lib/python3.10/dist-packages (from missingno) (0.13.2)\n",
            "Requirement already satisfied: contourpy>=1.0.1 in /usr/local/lib/python3.10/dist-packages (from matplotlib->missingno) (1.3.0)\n",
            "Requirement already satisfied: cycler>=0.10 in /usr/local/lib/python3.10/dist-packages (from matplotlib->missingno) (0.12.1)\n",
            "Requirement already satisfied: fonttools>=4.22.0 in /usr/local/lib/python3.10/dist-packages (from matplotlib->missingno) (4.54.1)\n",
            "Requirement already satisfied: kiwisolver>=1.0.1 in /usr/local/lib/python3.10/dist-packages (from matplotlib->missingno) (1.4.7)\n",
            "Requirement already satisfied: packaging>=20.0 in /usr/local/lib/python3.10/dist-packages (from matplotlib->missingno) (24.1)\n",
            "Requirement already satisfied: pillow>=6.2.0 in /usr/local/lib/python3.10/dist-packages (from matplotlib->missingno) (10.4.0)\n",
            "Requirement already satisfied: pyparsing>=2.3.1 in /usr/local/lib/python3.10/dist-packages (from matplotlib->missingno) (3.1.4)\n",
            "Requirement already satisfied: python-dateutil>=2.7 in /usr/local/lib/python3.10/dist-packages (from matplotlib->missingno) (2.8.2)\n",
            "Requirement already satisfied: pandas>=1.2 in /usr/local/lib/python3.10/dist-packages (from seaborn->missingno) (2.2.2)\n",
            "Requirement already satisfied: pytz>=2020.1 in /usr/local/lib/python3.10/dist-packages (from pandas>=1.2->seaborn->missingno) (2024.2)\n",
            "Requirement already satisfied: tzdata>=2022.7 in /usr/local/lib/python3.10/dist-packages (from pandas>=1.2->seaborn->missingno) (2024.2)\n",
            "Requirement already satisfied: six>=1.5 in /usr/local/lib/python3.10/dist-packages (from python-dateutil>=2.7->matplotlib->missingno) (1.16.0)\n"
          ]
        }
      ],
      "source": [
        "!pip install missingno"
      ]
    },
    {
      "cell_type": "markdown",
      "source": [
        "### 라이브러리 삭제하기"
      ],
      "metadata": {
        "id": "3peceTCrCuXS"
      }
    },
    {
      "cell_type": "code",
      "execution_count": null,
      "metadata": {
        "id": "CO9pIWvq8GGN",
        "scrolled": true,
        "colab": {
          "base_uri": "https://localhost:8080/"
        },
        "outputId": "5ffe6cc0-825e-4aa8-a02b-d0da9ecb0d7f"
      },
      "outputs": [
        {
          "output_type": "stream",
          "name": "stdout",
          "text": [
            "Found existing installation: missingno 0.5.2\n",
            "Uninstalling missingno-0.5.2:\n",
            "  Would remove:\n",
            "    /usr/local/lib/python3.10/dist-packages/missingno-0.5.2.dist-info/*\n",
            "    /usr/local/lib/python3.10/dist-packages/missingno/*\n",
            "Proceed (Y/n)? y\n",
            "  Successfully uninstalled missingno-0.5.2\n"
          ]
        }
      ],
      "source": [
        "!pip uninstall missingno"
      ]
    },
    {
      "cell_type": "markdown",
      "metadata": {
        "id": "5KtJAiS08GGO"
      },
      "source": [
        "### 설치된 라이브러리 확인(전체)"
      ]
    },
    {
      "cell_type": "code",
      "execution_count": null,
      "metadata": {
        "id": "0bsTdq6y8GGO",
        "colab": {
          "base_uri": "https://localhost:8080/"
        },
        "collapsed": true,
        "outputId": "8f47f487-5b87-47d6-a54e-5ed1e3494023"
      },
      "outputs": [
        {
          "output_type": "stream",
          "name": "stdout",
          "text": [
            "Package                            Version\n",
            "---------------------------------- -------------------\n",
            "absl-py                            1.4.0\n",
            "accelerate                         0.34.2\n",
            "aiohappyeyeballs                   2.4.3\n",
            "aiohttp                            3.10.9\n",
            "aiosignal                          1.3.1\n",
            "alabaster                          0.7.16\n",
            "albucore                           0.0.16\n",
            "albumentations                     1.4.15\n",
            "altair                             4.2.2\n",
            "annotated-types                    0.7.0\n",
            "anyio                              3.7.1\n",
            "argon2-cffi                        23.1.0\n",
            "argon2-cffi-bindings               21.2.0\n",
            "array_record                       0.5.1\n",
            "arviz                              0.19.0\n",
            "astropy                            6.1.4\n",
            "astropy-iers-data                  0.2024.10.7.0.32.46\n",
            "astunparse                         1.6.3\n",
            "async-timeout                      4.0.3\n",
            "atpublic                           4.1.0\n",
            "attrs                              24.2.0\n",
            "audioread                          3.0.1\n",
            "autograd                           1.7.0\n",
            "babel                              2.16.0\n",
            "backcall                           0.2.0\n",
            "beautifulsoup4                     4.12.3\n",
            "bigframes                          1.21.0\n",
            "bigquery-magics                    0.4.0\n",
            "bleach                             6.1.0\n",
            "blinker                            1.4\n",
            "blis                               0.7.11\n",
            "blosc2                             2.0.0\n",
            "bokeh                              3.4.3\n",
            "Bottleneck                         1.4.0\n",
            "bqplot                             0.12.43\n",
            "branca                             0.8.0\n",
            "build                              1.2.2.post1\n",
            "CacheControl                       0.14.0\n",
            "cachetools                         5.5.0\n",
            "catalogue                          2.0.10\n",
            "certifi                            2024.8.30\n",
            "cffi                               1.17.1\n",
            "chardet                            5.2.0\n",
            "charset-normalizer                 3.3.2\n",
            "chex                               0.1.87\n",
            "clarabel                           0.9.0\n",
            "click                              8.1.7\n",
            "cloudpathlib                       0.19.0\n",
            "cloudpickle                        2.2.1\n",
            "cmake                              3.30.4\n",
            "cmdstanpy                          1.2.4\n",
            "colorcet                           3.1.0\n",
            "colorlover                         0.3.0\n",
            "colour                             0.1.5\n",
            "community                          1.0.0b1\n",
            "confection                         0.1.5\n",
            "cons                               0.4.6\n",
            "contextlib2                        21.6.0\n",
            "contourpy                          1.3.0\n",
            "cryptography                       43.0.1\n",
            "cuda-python                        12.2.1\n",
            "cudf-cu12                          24.6.1\n",
            "cufflinks                          0.17.3\n",
            "cupy-cuda12x                       12.2.0\n",
            "cvxopt                             1.3.2\n",
            "cvxpy                              1.5.3\n",
            "cycler                             0.12.1\n",
            "cymem                              2.0.8\n",
            "Cython                             3.0.11\n",
            "dask                               2024.8.0\n",
            "datascience                        0.17.6\n",
            "db-dtypes                          1.3.0\n",
            "dbus-python                        1.2.18\n",
            "debugpy                            1.6.6\n",
            "decorator                          4.4.2\n",
            "defusedxml                         0.7.1\n",
            "Deprecated                         1.2.14\n",
            "distributed                        2024.8.0\n",
            "distro                             1.7.0\n",
            "dlib                               19.24.2\n",
            "dm-tree                            0.1.8\n",
            "docstring_parser                   0.16\n",
            "docutils                           0.18.1\n",
            "dopamine_rl                        4.0.9\n",
            "duckdb                             1.1.1\n",
            "earthengine-api                    1.0.0\n",
            "easydict                           1.13\n",
            "ecos                               2.0.14\n",
            "editdistance                       0.8.1\n",
            "eerepr                             0.0.4\n",
            "einops                             0.8.0\n",
            "en-core-web-sm                     3.7.1\n",
            "entrypoints                        0.4\n",
            "et-xmlfile                         1.1.0\n",
            "etils                              1.9.4\n",
            "etuples                            0.3.9\n",
            "eval_type_backport                 0.2.0\n",
            "exceptiongroup                     1.2.2\n",
            "fastai                             2.7.17\n",
            "fastcore                           1.7.11\n",
            "fastdownload                       0.0.7\n",
            "fastjsonschema                     2.20.0\n",
            "fastprogress                       1.0.3\n",
            "fastrlock                          0.8.2\n",
            "filelock                           3.16.1\n",
            "firebase-admin                     6.5.0\n",
            "Flask                              2.2.5\n",
            "flatbuffers                        24.3.25\n",
            "flax                               0.8.5\n",
            "folium                             0.17.0\n",
            "fonttools                          4.54.1\n",
            "frozendict                         2.4.5\n",
            "frozenlist                         1.4.1\n",
            "fsspec                             2024.6.1\n",
            "future                             1.0.0\n",
            "gast                               0.6.0\n",
            "gcsfs                              2024.6.1\n",
            "GDAL                               3.6.4\n",
            "gdown                              5.2.0\n",
            "geemap                             0.34.5\n",
            "gensim                             4.3.3\n",
            "geocoder                           1.38.1\n",
            "geographiclib                      2.0\n",
            "geopandas                          1.0.1\n",
            "geopy                              2.4.1\n",
            "gin-config                         0.5.0\n",
            "glob2                              0.7\n",
            "google                             2.0.3\n",
            "google-ai-generativelanguage       0.6.6\n",
            "google-api-core                    2.19.2\n",
            "google-api-python-client           2.137.0\n",
            "google-auth                        2.27.0\n",
            "google-auth-httplib2               0.2.0\n",
            "google-auth-oauthlib               1.2.1\n",
            "google-cloud-aiplatform            1.69.0\n",
            "google-cloud-bigquery              3.25.0\n",
            "google-cloud-bigquery-connection   1.15.5\n",
            "google-cloud-bigquery-storage      2.26.0\n",
            "google-cloud-bigtable              2.26.0\n",
            "google-cloud-core                  2.4.1\n",
            "google-cloud-datastore             2.19.0\n",
            "google-cloud-firestore             2.16.1\n",
            "google-cloud-functions             1.16.5\n",
            "google-cloud-iam                   2.15.2\n",
            "google-cloud-language              2.13.4\n",
            "google-cloud-pubsub                2.25.2\n",
            "google-cloud-resource-manager      1.12.5\n",
            "google-cloud-storage               2.8.0\n",
            "google-cloud-translate             3.15.5\n",
            "google-colab                       1.0.0\n",
            "google-crc32c                      1.6.0\n",
            "google-generativeai                0.7.2\n",
            "google-pasta                       0.2.0\n",
            "google-resumable-media             2.7.2\n",
            "googleapis-common-protos           1.65.0\n",
            "googledrivedownloader              0.4\n",
            "graphviz                           0.20.3\n",
            "greenlet                           3.1.1\n",
            "grpc-google-iam-v1                 0.13.1\n",
            "grpcio                             1.64.1\n",
            "grpcio-status                      1.48.2\n",
            "gspread                            6.0.2\n",
            "gspread-dataframe                  3.3.1\n",
            "gym                                0.25.2\n",
            "gym-notices                        0.0.8\n",
            "h5netcdf                           1.4.0\n",
            "h5py                               3.11.0\n",
            "holidays                           0.57\n",
            "holoviews                          1.19.1\n",
            "html5lib                           1.1\n",
            "httpimport                         1.4.0\n",
            "httplib2                           0.22.0\n",
            "huggingface-hub                    0.24.7\n",
            "humanize                           4.10.0\n",
            "hyperopt                           0.2.7\n",
            "ibis-framework                     9.2.0\n",
            "idna                               3.10\n",
            "imageio                            2.35.1\n",
            "imageio-ffmpeg                     0.5.1\n",
            "imagesize                          1.4.1\n",
            "imbalanced-learn                   0.12.4\n",
            "imgaug                             0.4.0\n",
            "immutabledict                      4.2.0\n",
            "importlib_metadata                 8.4.0\n",
            "importlib_resources                6.4.5\n",
            "imutils                            0.5.4\n",
            "inflect                            7.4.0\n",
            "iniconfig                          2.0.0\n",
            "intel-cmplr-lib-ur                 2024.2.1\n",
            "intel-openmp                       2024.2.1\n",
            "ipyevents                          2.0.2\n",
            "ipyfilechooser                     0.6.0\n",
            "ipykernel                          5.5.6\n",
            "ipyleaflet                         0.19.2\n",
            "ipyparallel                        8.8.0\n",
            "ipython                            7.34.0\n",
            "ipython-genutils                   0.2.0\n",
            "ipython-sql                        0.5.0\n",
            "ipytree                            0.2.2\n",
            "ipywidgets                         7.7.1\n",
            "itsdangerous                       2.2.0\n",
            "jax                                0.4.33\n",
            "jax-cuda12-pjrt                    0.4.33\n",
            "jax-cuda12-plugin                  0.4.33\n",
            "jaxlib                             0.4.33\n",
            "jeepney                            0.7.1\n",
            "jellyfish                          1.1.0\n",
            "jieba                              0.42.1\n",
            "Jinja2                             3.1.4\n",
            "joblib                             1.4.2\n",
            "jsonpickle                         3.3.0\n",
            "jsonschema                         4.23.0\n",
            "jsonschema-specifications          2023.12.1\n",
            "jupyter-client                     6.1.12\n",
            "jupyter-console                    6.1.0\n",
            "jupyter_core                       5.7.2\n",
            "jupyter-leaflet                    0.19.2\n",
            "jupyter-server                     1.24.0\n",
            "jupyterlab_pygments                0.3.0\n",
            "jupyterlab_widgets                 3.0.13\n",
            "kaggle                             1.6.17\n",
            "kagglehub                          0.3.1\n",
            "keras                              3.4.1\n",
            "keyring                            23.5.0\n",
            "kiwisolver                         1.4.7\n",
            "langcodes                          3.4.1\n",
            "language_data                      1.2.0\n",
            "launchpadlib                       1.10.16\n",
            "lazr.restfulclient                 0.14.4\n",
            "lazr.uri                           1.0.6\n",
            "lazy_loader                        0.4\n",
            "libclang                           18.1.1\n",
            "librosa                            0.10.2.post1\n",
            "lightgbm                           4.5.0\n",
            "linkify-it-py                      2.0.3\n",
            "llvmlite                           0.43.0\n",
            "locket                             1.0.0\n",
            "logical-unification                0.4.6\n",
            "lxml                               4.9.4\n",
            "marisa-trie                        1.2.0\n",
            "Markdown                           3.7\n",
            "markdown-it-py                     3.0.0\n",
            "MarkupSafe                         2.1.5\n",
            "matplotlib                         3.7.1\n",
            "matplotlib-inline                  0.1.7\n",
            "matplotlib-venn                    1.1.1\n",
            "mdit-py-plugins                    0.4.2\n",
            "mdurl                              0.1.2\n",
            "miniKanren                         1.0.3\n",
            "mistune                            0.8.4\n",
            "mizani                             0.11.4\n",
            "mkl                                2024.2.2\n",
            "ml-dtypes                          0.4.1\n",
            "mlxtend                            0.23.1\n",
            "more-itertools                     10.5.0\n",
            "moviepy                            1.0.3\n",
            "mpmath                             1.3.0\n",
            "msgpack                            1.0.8\n",
            "multidict                          6.1.0\n",
            "multipledispatch                   1.0.0\n",
            "multitasking                       0.0.11\n",
            "murmurhash                         1.0.10\n",
            "music21                            9.1.0\n",
            "namex                              0.0.8\n",
            "natsort                            8.4.0\n",
            "nbclassic                          1.1.0\n",
            "nbclient                           0.10.0\n",
            "nbconvert                          6.5.4\n",
            "nbformat                           5.10.4\n",
            "nest-asyncio                       1.6.0\n",
            "networkx                           3.3\n",
            "nibabel                            5.2.1\n",
            "nltk                               3.8.1\n",
            "notebook                           6.5.5\n",
            "notebook_shim                      0.2.4\n",
            "numba                              0.60.0\n",
            "numexpr                            2.10.1\n",
            "numpy                              1.26.4\n",
            "nvidia-cublas-cu12                 12.6.3.3\n",
            "nvidia-cuda-cupti-cu12             12.6.80\n",
            "nvidia-cuda-nvcc-cu12              12.6.77\n",
            "nvidia-cuda-runtime-cu12           12.6.77\n",
            "nvidia-cudnn-cu12                  9.4.0.58\n",
            "nvidia-cufft-cu12                  11.3.0.4\n",
            "nvidia-cusolver-cu12               11.7.1.2\n",
            "nvidia-cusparse-cu12               12.5.4.2\n",
            "nvidia-nccl-cu12                   2.23.4\n",
            "nvidia-nvjitlink-cu12              12.6.77\n",
            "nvtx                               0.2.10\n",
            "oauth2client                       4.1.3\n",
            "oauthlib                           3.2.2\n",
            "opencv-contrib-python              4.10.0.84\n",
            "opencv-python                      4.10.0.84\n",
            "opencv-python-headless             4.10.0.84\n",
            "openpyxl                           3.1.5\n",
            "opentelemetry-api                  1.27.0\n",
            "opentelemetry-sdk                  1.27.0\n",
            "opentelemetry-semantic-conventions 0.48b0\n",
            "opt_einsum                         3.4.0\n",
            "optax                              0.2.3\n",
            "optree                             0.13.0\n",
            "orbax-checkpoint                   0.6.4\n",
            "osqp                               0.6.7.post0\n",
            "packaging                          24.1\n",
            "pandas                             2.2.2\n",
            "pandas-datareader                  0.10.0\n",
            "pandas-gbq                         0.23.2\n",
            "pandas-stubs                       2.2.2.240909\n",
            "pandocfilters                      1.5.1\n",
            "panel                              1.4.5\n",
            "param                              2.1.1\n",
            "parso                              0.8.4\n",
            "parsy                              2.1\n",
            "partd                              1.4.2\n",
            "pathlib                            1.0.1\n",
            "patsy                              0.5.6\n",
            "peewee                             3.17.6\n",
            "pexpect                            4.9.0\n",
            "pickleshare                        0.7.5\n",
            "pillow                             10.4.0\n",
            "pip                                24.1.2\n",
            "pip-tools                          7.4.1\n",
            "platformdirs                       4.3.6\n",
            "plotly                             5.24.1\n",
            "plotnine                           0.13.6\n",
            "pluggy                             1.5.0\n",
            "polars                             1.7.1\n",
            "pooch                              1.8.2\n",
            "portpicker                         1.5.2\n",
            "prefetch_generator                 1.0.3\n",
            "preshed                            3.0.9\n",
            "prettytable                        3.11.0\n",
            "proglog                            0.1.10\n",
            "progressbar2                       4.5.0\n",
            "prometheus_client                  0.21.0\n",
            "promise                            2.3\n",
            "prompt_toolkit                     3.0.48\n",
            "prophet                            1.1.6\n",
            "proto-plus                         1.24.0\n",
            "protobuf                           3.20.3\n",
            "psutil                             5.9.5\n",
            "psycopg2                           2.9.9\n",
            "ptyprocess                         0.7.0\n",
            "py-cpuinfo                         9.0.0\n",
            "py4j                               0.10.9.7\n",
            "pyarrow                            16.1.0\n",
            "pyarrow-hotfix                     0.6\n",
            "pyasn1                             0.6.1\n",
            "pyasn1_modules                     0.4.1\n",
            "pycocotools                        2.0.8\n",
            "pycparser                          2.22\n",
            "pydantic                           2.9.2\n",
            "pydantic_core                      2.23.4\n",
            "pydata-google-auth                 1.8.2\n",
            "pydot                              3.0.2\n",
            "pydot-ng                           2.0.0\n",
            "pydotplus                          2.0.2\n",
            "PyDrive                            1.3.1\n",
            "PyDrive2                           1.20.0\n",
            "pyerfa                             2.0.1.4\n",
            "pygame                             2.6.1\n",
            "Pygments                           2.18.0\n",
            "PyGObject                          3.42.1\n",
            "PyJWT                              2.9.0\n",
            "pymc                               5.16.2\n",
            "pymystem3                          0.2.0\n",
            "pynvjitlink-cu12                   0.3.0\n",
            "pyogrio                            0.10.0\n",
            "PyOpenGL                           3.1.7\n",
            "pyOpenSSL                          24.2.1\n",
            "pyparsing                          3.1.4\n",
            "pyperclip                          1.9.0\n",
            "pyproj                             3.7.0\n",
            "pyproject_hooks                    1.2.0\n",
            "pyshp                              2.3.1\n",
            "PySocks                            1.7.1\n",
            "pytensor                           2.25.5\n",
            "pytest                             7.4.4\n",
            "python-apt                         0.0.0\n",
            "python-box                         7.2.0\n",
            "python-dateutil                    2.8.2\n",
            "python-louvain                     0.16\n",
            "python-slugify                     8.0.4\n",
            "python-utils                       3.9.0\n",
            "pytz                               2024.2\n",
            "pyviz_comms                        3.0.3\n",
            "PyYAML                             6.0.2\n",
            "pyzmq                              24.0.1\n",
            "qdldl                              0.1.7.post4\n",
            "ratelim                            0.1.6\n",
            "referencing                        0.35.1\n",
            "regex                              2024.9.11\n",
            "requests                           2.32.3\n",
            "requests-oauthlib                  1.3.1\n",
            "requirements-parser                0.9.0\n",
            "rich                               13.9.2\n",
            "rmm-cu12                           24.6.0\n",
            "rpds-py                            0.20.0\n",
            "rpy2                               3.4.2\n",
            "rsa                                4.9\n",
            "safetensors                        0.4.5\n",
            "scikit-image                       0.24.0\n",
            "scikit-learn                       1.5.2\n",
            "scipy                              1.13.1\n",
            "scooby                             0.10.0\n",
            "scs                                3.2.7\n",
            "seaborn                            0.13.2\n",
            "SecretStorage                      3.3.1\n",
            "Send2Trash                         1.8.3\n",
            "sentencepiece                      0.2.0\n",
            "setuptools                         71.0.4\n",
            "shapely                            2.0.6\n",
            "shellingham                        1.5.4\n",
            "simple-parsing                     0.1.6\n",
            "six                                1.16.0\n",
            "sklearn-pandas                     2.2.0\n",
            "smart-open                         7.0.5\n",
            "sniffio                            1.3.1\n",
            "snowballstemmer                    2.2.0\n",
            "sortedcontainers                   2.4.0\n",
            "soundfile                          0.12.1\n",
            "soupsieve                          2.6\n",
            "soxr                               0.5.0.post1\n",
            "spacy                              3.7.5\n",
            "spacy-legacy                       3.0.12\n",
            "spacy-loggers                      1.0.5\n",
            "Sphinx                             5.0.2\n",
            "sphinxcontrib-applehelp            2.0.0\n",
            "sphinxcontrib-devhelp              2.0.0\n",
            "sphinxcontrib-htmlhelp             2.1.0\n",
            "sphinxcontrib-jsmath               1.0.1\n",
            "sphinxcontrib-qthelp               2.0.0\n",
            "sphinxcontrib-serializinghtml      2.0.0\n",
            "SQLAlchemy                         2.0.35\n",
            "sqlglot                            25.1.0\n",
            "sqlparse                           0.5.1\n",
            "srsly                              2.4.8\n",
            "stanio                             0.5.1\n",
            "statsmodels                        0.14.4\n",
            "StrEnum                            0.4.15\n",
            "sympy                              1.13.3\n",
            "tables                             3.8.0\n",
            "tabulate                           0.9.0\n",
            "tbb                                2021.13.1\n",
            "tblib                              3.0.0\n",
            "tenacity                           9.0.0\n",
            "tensorboard                        2.17.0\n",
            "tensorboard-data-server            0.7.2\n",
            "tensorflow                         2.17.0\n",
            "tensorflow-datasets                4.9.6\n",
            "tensorflow-hub                     0.16.1\n",
            "tensorflow-io-gcs-filesystem       0.37.1\n",
            "tensorflow-metadata                1.16.0\n",
            "tensorflow-probability             0.24.0\n",
            "tensorstore                        0.1.66\n",
            "termcolor                          2.5.0\n",
            "terminado                          0.18.1\n",
            "text-unidecode                     1.3\n",
            "textblob                           0.17.1\n",
            "tf_keras                           2.17.0\n",
            "tf-slim                            1.1.0\n",
            "thinc                              8.2.5\n",
            "threadpoolctl                      3.5.0\n",
            "tifffile                           2024.9.20\n",
            "tinycss2                           1.3.0\n",
            "tokenizers                         0.19.1\n",
            "toml                               0.10.2\n",
            "tomli                              2.0.2\n",
            "toolz                              0.12.1\n",
            "torch                              2.4.1+cu121\n",
            "torchaudio                         2.4.1+cu121\n",
            "torchsummary                       1.5.1\n",
            "torchvision                        0.19.1+cu121\n",
            "tornado                            6.3.3\n",
            "tqdm                               4.66.5\n",
            "traitlets                          5.7.1\n",
            "traittypes                         0.2.1\n",
            "transformers                       4.44.2\n",
            "tweepy                             4.14.0\n",
            "typeguard                          4.3.0\n",
            "typer                              0.12.5\n",
            "types-pytz                         2024.2.0.20241003\n",
            "types-setuptools                   75.1.0.20240917\n",
            "typing_extensions                  4.12.2\n",
            "tzdata                             2024.2\n",
            "tzlocal                            5.2\n",
            "uc-micro-py                        1.0.3\n",
            "uritemplate                        4.1.1\n",
            "urllib3                            2.2.3\n",
            "vega-datasets                      0.9.0\n",
            "wadllib                            1.3.6\n",
            "wasabi                             1.1.3\n",
            "wcwidth                            0.2.13\n",
            "weasel                             0.4.1\n",
            "webcolors                          24.8.0\n",
            "webencodings                       0.5.1\n",
            "websocket-client                   1.8.0\n",
            "Werkzeug                           3.0.4\n",
            "wheel                              0.44.0\n",
            "widgetsnbextension                 3.6.9\n",
            "wordcloud                          1.9.3\n",
            "wrapt                              1.16.0\n",
            "xarray                             2024.9.0\n",
            "xarray-einstats                    0.8.0\n",
            "xgboost                            2.1.1\n",
            "xlrd                               2.0.1\n",
            "xyzservices                        2024.9.0\n",
            "yarl                               1.13.1\n",
            "yellowbrick                        1.5\n",
            "yfinance                           0.2.44\n",
            "zict                               3.0.0\n",
            "zipp                               3.20.2\n"
          ]
        }
      ],
      "source": [
        "pip list"
      ]
    },
    {
      "cell_type": "markdown",
      "metadata": {
        "id": "G_IjDeFh8GGP"
      },
      "source": [
        "### 설치된 라이브러리 확인(특정 라이브러리)"
      ]
    },
    {
      "cell_type": "code",
      "execution_count": null,
      "metadata": {
        "id": "TqvE9YpV8GGP",
        "colab": {
          "base_uri": "https://localhost:8080/"
        },
        "collapsed": true,
        "outputId": "dbb8f091-c85b-4e08-e215-0b2282cc568e"
      },
      "outputs": [
        {
          "output_type": "stream",
          "name": "stdout",
          "text": [
            "Name: numpy\n",
            "Version: 1.26.4\n",
            "Summary: Fundamental package for array computing in Python\n",
            "Home-page: https://numpy.org\n",
            "Author: Travis E. Oliphant et al.\n",
            "Author-email: \n",
            "License: Copyright (c) 2005-2023, NumPy Developers.\n",
            "        All rights reserved.\n",
            "        \n",
            "        Redistribution and use in source and binary forms, with or without\n",
            "        modification, are permitted provided that the following conditions are\n",
            "        met:\n",
            "        \n",
            "            * Redistributions of source code must retain the above copyright\n",
            "               notice, this list of conditions and the following disclaimer.\n",
            "        \n",
            "            * Redistributions in binary form must reproduce the above\n",
            "               copyright notice, this list of conditions and the following\n",
            "               disclaimer in the documentation and/or other materials provided\n",
            "               with the distribution.\n",
            "        \n",
            "            * Neither the name of the NumPy Developers nor the names of any\n",
            "               contributors may be used to endorse or promote products derived\n",
            "               from this software without specific prior written permission.\n",
            "        \n",
            "        THIS SOFTWARE IS PROVIDED BY THE COPYRIGHT HOLDERS AND CONTRIBUTORS\n",
            "        \"AS IS\" AND ANY EXPRESS OR IMPLIED WARRANTIES, INCLUDING, BUT NOT\n",
            "        LIMITED TO, THE IMPLIED WARRANTIES OF MERCHANTABILITY AND FITNESS FOR\n",
            "        A PARTICULAR PURPOSE ARE DISCLAIMED. IN NO EVENT SHALL THE COPYRIGHT\n",
            "        OWNER OR CONTRIBUTORS BE LIABLE FOR ANY DIRECT, INDIRECT, INCIDENTAL,\n",
            "        SPECIAL, EXEMPLARY, OR CONSEQUENTIAL DAMAGES (INCLUDING, BUT NOT\n",
            "        LIMITED TO, PROCUREMENT OF SUBSTITUTE GOODS OR SERVICES; LOSS OF USE,\n",
            "        DATA, OR PROFITS; OR BUSINESS INTERRUPTION) HOWEVER CAUSED AND ON ANY\n",
            "        THEORY OF LIABILITY, WHETHER IN CONTRACT, STRICT LIABILITY, OR TORT\n",
            "        (INCLUDING NEGLIGENCE OR OTHERWISE) ARISING IN ANY WAY OUT OF THE USE\n",
            "        OF THIS SOFTWARE, EVEN IF ADVISED OF THE POSSIBILITY OF SUCH DAMAGE.\n",
            "        \n",
            "        ----\n",
            "        \n",
            "        The NumPy repository and source distributions bundle several libraries that are\n",
            "        compatibly licensed.  We list these here.\n",
            "        \n",
            "        Name: lapack-lite\n",
            "        Files: numpy/linalg/lapack_lite/*\n",
            "        License: BSD-3-Clause\n",
            "          For details, see numpy/linalg/lapack_lite/LICENSE.txt\n",
            "        \n",
            "        Name: tempita\n",
            "        Files: tools/npy_tempita/*\n",
            "        License: MIT\n",
            "          For details, see tools/npy_tempita/license.txt\n",
            "        \n",
            "        Name: dragon4\n",
            "        Files: numpy/core/src/multiarray/dragon4.c\n",
            "        License: MIT\n",
            "          For license text, see numpy/core/src/multiarray/dragon4.c\n",
            "        \n",
            "        Name: libdivide\n",
            "        Files: numpy/core/include/numpy/libdivide/*\n",
            "        License: Zlib\n",
            "          For license text, see numpy/core/include/numpy/libdivide/LICENSE.txt\n",
            "        \n",
            "        \n",
            "        Note that the following files are vendored in the repository and sdist but not\n",
            "        installed in built numpy packages:\n",
            "        \n",
            "        Name: Meson\n",
            "        Files: vendored-meson/meson/*\n",
            "        License: Apache 2.0\n",
            "          For license text, see vendored-meson/meson/COPYING\n",
            "        \n",
            "        Name: spin\n",
            "        Files: .spin/cmds.py\n",
            "        License: BSD-3\n",
            "          For license text, see .spin/LICENSE\n",
            "        \n",
            "        ----\n",
            "        \n",
            "        This binary distribution of NumPy also bundles the following software:\n",
            "        \n",
            "        \n",
            "        Name: OpenBLAS\n",
            "        Files: numpy.libs/libopenblas*.so\n",
            "        Description: bundled as a dynamically linked library\n",
            "        Availability: https://github.com/OpenMathLib/OpenBLAS/\n",
            "        License: BSD-3-Clause\n",
            "          Copyright (c) 2011-2014, The OpenBLAS Project\n",
            "          All rights reserved.\n",
            "        \n",
            "          Redistribution and use in source and binary forms, with or without\n",
            "          modification, are permitted provided that the following conditions are\n",
            "          met:\n",
            "        \n",
            "             1. Redistributions of source code must retain the above copyright\n",
            "                notice, this list of conditions and the following disclaimer.\n",
            "        \n",
            "             2. Redistributions in binary form must reproduce the above copyright\n",
            "                notice, this list of conditions and the following disclaimer in\n",
            "                the documentation and/or other materials provided with the\n",
            "                distribution.\n",
            "             3. Neither the name of the OpenBLAS project nor the names of\n",
            "                its contributors may be used to endorse or promote products\n",
            "                derived from this software without specific prior written\n",
            "                permission.\n",
            "        \n",
            "          THIS SOFTWARE IS PROVIDED BY THE COPYRIGHT HOLDERS AND CONTRIBUTORS \"AS IS\"\n",
            "          AND ANY EXPRESS OR IMPLIED WARRANTIES, INCLUDING, BUT NOT LIMITED TO, THE\n",
            "          IMPLIED WARRANTIES OF MERCHANTABILITY AND FITNESS FOR A PARTICULAR PURPOSE\n",
            "          ARE DISCLAIMED. IN NO EVENT SHALL THE COPYRIGHT OWNER OR CONTRIBUTORS BE\n",
            "          LIABLE FOR ANY DIRECT, INDIRECT, INCIDENTAL, SPECIAL, EXEMPLARY, OR CONSEQUENTIAL\n",
            "          DAMAGES (INCLUDING, BUT NOT LIMITED TO, PROCUREMENT OF SUBSTITUTE GOODS OR\n",
            "          SERVICES; LOSS OF USE, DATA, OR PROFITS; OR BUSINESS INTERRUPTION) HOWEVER\n",
            "          CAUSED AND ON ANY THEORY OF LIABILITY, WHETHER IN CONTRACT, STRICT LIABILITY,\n",
            "          OR TORT (INCLUDING NEGLIGENCE OR OTHERWISE) ARISING IN ANY WAY OUT OF THE\n",
            "          USE OF THIS SOFTWARE, EVEN IF ADVISED OF THE POSSIBILITY OF SUCH DAMAGE.\n",
            "        \n",
            "        \n",
            "        Name: LAPACK\n",
            "        Files: numpy.libs/libopenblas*.so\n",
            "        Description: bundled in OpenBLAS\n",
            "        Availability: https://github.com/OpenMathLib/OpenBLAS/\n",
            "        License: BSD-3-Clause-Attribution\n",
            "          Copyright (c) 1992-2013 The University of Tennessee and The University\n",
            "                                  of Tennessee Research Foundation.  All rights\n",
            "                                  reserved.\n",
            "          Copyright (c) 2000-2013 The University of California Berkeley. All\n",
            "                                  rights reserved.\n",
            "          Copyright (c) 2006-2013 The University of Colorado Denver.  All rights\n",
            "                                  reserved.\n",
            "        \n",
            "          $COPYRIGHT$\n",
            "        \n",
            "          Additional copyrights may follow\n",
            "        \n",
            "          $HEADER$\n",
            "        \n",
            "          Redistribution and use in source and binary forms, with or without\n",
            "          modification, are permitted provided that the following conditions are\n",
            "          met:\n",
            "        \n",
            "          - Redistributions of source code must retain the above copyright\n",
            "            notice, this list of conditions and the following disclaimer.\n",
            "        \n",
            "          - Redistributions in binary form must reproduce the above copyright\n",
            "            notice, this list of conditions and the following disclaimer listed\n",
            "            in this license in the documentation and/or other materials\n",
            "            provided with the distribution.\n",
            "        \n",
            "          - Neither the name of the copyright holders nor the names of its\n",
            "            contributors may be used to endorse or promote products derived from\n",
            "            this software without specific prior written permission.\n",
            "        \n",
            "          The copyright holders provide no reassurances that the source code\n",
            "          provided does not infringe any patent, copyright, or any other\n",
            "          intellectual property rights of third parties.  The copyright holders\n",
            "          disclaim any liability to any recipient for claims brought against\n",
            "          recipient by any third party for infringement of that parties\n",
            "          intellectual property rights.\n",
            "        \n",
            "          THIS SOFTWARE IS PROVIDED BY THE COPYRIGHT HOLDERS AND CONTRIBUTORS\n",
            "          \"AS IS\" AND ANY EXPRESS OR IMPLIED WARRANTIES, INCLUDING, BUT NOT\n",
            "          LIMITED TO, THE IMPLIED WARRANTIES OF MERCHANTABILITY AND FITNESS FOR\n",
            "          A PARTICULAR PURPOSE ARE DISCLAIMED. IN NO EVENT SHALL THE COPYRIGHT\n",
            "          OWNER OR CONTRIBUTORS BE LIABLE FOR ANY DIRECT, INDIRECT, INCIDENTAL,\n",
            "          SPECIAL, EXEMPLARY, OR CONSEQUENTIAL DAMAGES (INCLUDING, BUT NOT\n",
            "          LIMITED TO, PROCUREMENT OF SUBSTITUTE GOODS OR SERVICES; LOSS OF USE,\n",
            "          DATA, OR PROFITS; OR BUSINESS INTERRUPTION) HOWEVER CAUSED AND ON ANY\n",
            "          THEORY OF LIABILITY, WHETHER IN CONTRACT, STRICT LIABILITY, OR TORT\n",
            "          (INCLUDING NEGLIGENCE OR OTHERWISE) ARISING IN ANY WAY OUT OF THE USE\n",
            "          OF THIS SOFTWARE, EVEN IF ADVISED OF THE POSSIBILITY OF SUCH DAMAGE.\n",
            "        \n",
            "        \n",
            "        Name: GCC runtime library\n",
            "        Files: numpy.libs/libgfortran*.so\n",
            "        Description: dynamically linked to files compiled with gcc\n",
            "        Availability: https://gcc.gnu.org/git/?p=gcc.git;a=tree;f=libgfortran\n",
            "        License: GPL-3.0-with-GCC-exception\n",
            "          Copyright (C) 2002-2017 Free Software Foundation, Inc.\n",
            "        \n",
            "          Libgfortran is free software; you can redistribute it and/or modify\n",
            "          it under the terms of the GNU General Public License as published by\n",
            "          the Free Software Foundation; either version 3, or (at your option)\n",
            "          any later version.\n",
            "        \n",
            "          Libgfortran is distributed in the hope that it will be useful,\n",
            "          but WITHOUT ANY WARRANTY; without even the implied warranty of\n",
            "          MERCHANTABILITY or FITNESS FOR A PARTICULAR PURPOSE.  See the\n",
            "          GNU General Public License for more details.\n",
            "        \n",
            "          Under Section 7 of GPL version 3, you are granted additional\n",
            "          permissions described in the GCC Runtime Library Exception, version\n",
            "          3.1, as published by the Free Software Foundation.\n",
            "        \n",
            "          You should have received a copy of the GNU General Public License and\n",
            "          a copy of the GCC Runtime Library Exception along with this program;\n",
            "          see the files COPYING3 and COPYING.RUNTIME respectively.  If not, see\n",
            "          <http://www.gnu.org/licenses/>.\n",
            "        \n",
            "        ----\n",
            "        \n",
            "        Full text of license texts referred to above follows (that they are\n",
            "        listed below does not necessarily imply the conditions apply to the\n",
            "        present binary release):\n",
            "        \n",
            "        ----\n",
            "        \n",
            "        GCC RUNTIME LIBRARY EXCEPTION\n",
            "        \n",
            "        Version 3.1, 31 March 2009\n",
            "        \n",
            "        Copyright (C) 2009 Free Software Foundation, Inc. <http://fsf.org/>\n",
            "        \n",
            "        Everyone is permitted to copy and distribute verbatim copies of this\n",
            "        license document, but changing it is not allowed.\n",
            "        \n",
            "        This GCC Runtime Library Exception (\"Exception\") is an additional\n",
            "        permission under section 7 of the GNU General Public License, version\n",
            "        3 (\"GPLv3\"). It applies to a given file (the \"Runtime Library\") that\n",
            "        bears a notice placed by the copyright holder of the file stating that\n",
            "        the file is governed by GPLv3 along with this Exception.\n",
            "        \n",
            "        When you use GCC to compile a program, GCC may combine portions of\n",
            "        certain GCC header files and runtime libraries with the compiled\n",
            "        program. The purpose of this Exception is to allow compilation of\n",
            "        non-GPL (including proprietary) programs to use, in this way, the\n",
            "        header files and runtime libraries covered by this Exception.\n",
            "        \n",
            "        0. Definitions.\n",
            "        \n",
            "        A file is an \"Independent Module\" if it either requires the Runtime\n",
            "        Library for execution after a Compilation Process, or makes use of an\n",
            "        interface provided by the Runtime Library, but is not otherwise based\n",
            "        on the Runtime Library.\n",
            "        \n",
            "        \"GCC\" means a version of the GNU Compiler Collection, with or without\n",
            "        modifications, governed by version 3 (or a specified later version) of\n",
            "        the GNU General Public License (GPL) with the option of using any\n",
            "        subsequent versions published by the FSF.\n",
            "        \n",
            "        \"GPL-compatible Software\" is software whose conditions of propagation,\n",
            "        modification and use would permit combination with GCC in accord with\n",
            "        the license of GCC.\n",
            "        \n",
            "        \"Target Code\" refers to output from any compiler for a real or virtual\n",
            "        target processor architecture, in executable form or suitable for\n",
            "        input to an assembler, loader, linker and/or execution\n",
            "        phase. Notwithstanding that, Target Code does not include data in any\n",
            "        format that is used as a compiler intermediate representation, or used\n",
            "        for producing a compiler intermediate representation.\n",
            "        \n",
            "        The \"Compilation Process\" transforms code entirely represented in\n",
            "        non-intermediate languages designed for human-written code, and/or in\n",
            "        Java Virtual Machine byte code, into Target Code. Thus, for example,\n",
            "        use of source code generators and preprocessors need not be considered\n",
            "        part of the Compilation Process, since the Compilation Process can be\n",
            "        understood as starting with the output of the generators or\n",
            "        preprocessors.\n",
            "        \n",
            "        A Compilation Process is \"Eligible\" if it is done using GCC, alone or\n",
            "        with other GPL-compatible software, or if it is done without using any\n",
            "        work based on GCC. For example, using non-GPL-compatible Software to\n",
            "        optimize any GCC intermediate representations would not qualify as an\n",
            "        Eligible Compilation Process.\n",
            "        \n",
            "        1. Grant of Additional Permission.\n",
            "        \n",
            "        You have permission to propagate a work of Target Code formed by\n",
            "        combining the Runtime Library with Independent Modules, even if such\n",
            "        propagation would otherwise violate the terms of GPLv3, provided that\n",
            "        all Target Code was generated by Eligible Compilation Processes. You\n",
            "        may then convey such a combination under terms of your choice,\n",
            "        consistent with the licensing of the Independent Modules.\n",
            "        \n",
            "        2. No Weakening of GCC Copyleft.\n",
            "        \n",
            "        The availability of this Exception does not imply any general\n",
            "        presumption that third-party software is unaffected by the copyleft\n",
            "        requirements of the license of GCC.\n",
            "        \n",
            "        ----\n",
            "        \n",
            "                            GNU GENERAL PUBLIC LICENSE\n",
            "                               Version 3, 29 June 2007\n",
            "        \n",
            "         Copyright (C) 2007 Free Software Foundation, Inc. <http://fsf.org/>\n",
            "         Everyone is permitted to copy and distribute verbatim copies\n",
            "         of this license document, but changing it is not allowed.\n",
            "        \n",
            "                                    Preamble\n",
            "        \n",
            "          The GNU General Public License is a free, copyleft license for\n",
            "        software and other kinds of works.\n",
            "        \n",
            "          The licenses for most software and other practical works are designed\n",
            "        to take away your freedom to share and change the works.  By contrast,\n",
            "        the GNU General Public License is intended to guarantee your freedom to\n",
            "        share and change all versions of a program--to make sure it remains free\n",
            "        software for all its users.  We, the Free Software Foundation, use the\n",
            "        GNU General Public License for most of our software; it applies also to\n",
            "        any other work released this way by its authors.  You can apply it to\n",
            "        your programs, too.\n",
            "        \n",
            "          When we speak of free software, we are referring to freedom, not\n",
            "        price.  Our General Public Licenses are designed to make sure that you\n",
            "        have the freedom to distribute copies of free software (and charge for\n",
            "        them if you wish), that you receive source code or can get it if you\n",
            "        want it, that you can change the software or use pieces of it in new\n",
            "        free programs, and that you know you can do these things.\n",
            "        \n",
            "          To protect your rights, we need to prevent others from denying you\n",
            "        these rights or asking you to surrender the rights.  Therefore, you have\n",
            "        certain responsibilities if you distribute copies of the software, or if\n",
            "        you modify it: responsibilities to respect the freedom of others.\n",
            "        \n",
            "          For example, if you distribute copies of such a program, whether\n",
            "        gratis or for a fee, you must pass on to the recipients the same\n",
            "        freedoms that you received.  You must make sure that they, too, receive\n",
            "        or can get the source code.  And you must show them these terms so they\n",
            "        know their rights.\n",
            "        \n",
            "          Developers that use the GNU GPL protect your rights with two steps:\n",
            "        (1) assert copyright on the software, and (2) offer you this License\n",
            "        giving you legal permission to copy, distribute and/or modify it.\n",
            "        \n",
            "          For the developers' and authors' protection, the GPL clearly explains\n",
            "        that there is no warranty for this free software.  For both users' and\n",
            "        authors' sake, the GPL requires that modified versions be marked as\n",
            "        changed, so that their problems will not be attributed erroneously to\n",
            "        authors of previous versions.\n",
            "        \n",
            "          Some devices are designed to deny users access to install or run\n",
            "        modified versions of the software inside them, although the manufacturer\n",
            "        can do so.  This is fundamentally incompatible with the aim of\n",
            "        protecting users' freedom to change the software.  The systematic\n",
            "        pattern of such abuse occurs in the area of products for individuals to\n",
            "        use, which is precisely where it is most unacceptable.  Therefore, we\n",
            "        have designed this version of the GPL to prohibit the practice for those\n",
            "        products.  If such problems arise substantially in other domains, we\n",
            "        stand ready to extend this provision to those domains in future versions\n",
            "        of the GPL, as needed to protect the freedom of users.\n",
            "        \n",
            "          Finally, every program is threatened constantly by software patents.\n",
            "        States should not allow patents to restrict development and use of\n",
            "        software on general-purpose computers, but in those that do, we wish to\n",
            "        avoid the special danger that patents applied to a free program could\n",
            "        make it effectively proprietary.  To prevent this, the GPL assures that\n",
            "        patents cannot be used to render the program non-free.\n",
            "        \n",
            "          The precise terms and conditions for copying, distribution and\n",
            "        modification follow.\n",
            "        \n",
            "                               TERMS AND CONDITIONS\n",
            "        \n",
            "          0. Definitions.\n",
            "        \n",
            "          \"This License\" refers to version 3 of the GNU General Public License.\n",
            "        \n",
            "          \"Copyright\" also means copyright-like laws that apply to other kinds of\n",
            "        works, such as semiconductor masks.\n",
            "        \n",
            "          \"The Program\" refers to any copyrightable work licensed under this\n",
            "        License.  Each licensee is addressed as \"you\".  \"Licensees\" and\n",
            "        \"recipients\" may be individuals or organizations.\n",
            "        \n",
            "          To \"modify\" a work means to copy from or adapt all or part of the work\n",
            "        in a fashion requiring copyright permission, other than the making of an\n",
            "        exact copy.  The resulting work is called a \"modified version\" of the\n",
            "        earlier work or a work \"based on\" the earlier work.\n",
            "        \n",
            "          A \"covered work\" means either the unmodified Program or a work based\n",
            "        on the Program.\n",
            "        \n",
            "          To \"propagate\" a work means to do anything with it that, without\n",
            "        permission, would make you directly or secondarily liable for\n",
            "        infringement under applicable copyright law, except executing it on a\n",
            "        computer or modifying a private copy.  Propagation includes copying,\n",
            "        distribution (with or without modification), making available to the\n",
            "        public, and in some countries other activities as well.\n",
            "        \n",
            "          To \"convey\" a work means any kind of propagation that enables other\n",
            "        parties to make or receive copies.  Mere interaction with a user through\n",
            "        a computer network, with no transfer of a copy, is not conveying.\n",
            "        \n",
            "          An interactive user interface displays \"Appropriate Legal Notices\"\n",
            "        to the extent that it includes a convenient and prominently visible\n",
            "        feature that (1) displays an appropriate copyright notice, and (2)\n",
            "        tells the user that there is no warranty for the work (except to the\n",
            "        extent that warranties are provided), that licensees may convey the\n",
            "        work under this License, and how to view a copy of this License.  If\n",
            "        the interface presents a list of user commands or options, such as a\n",
            "        menu, a prominent item in the list meets this criterion.\n",
            "        \n",
            "          1. Source Code.\n",
            "        \n",
            "          The \"source code\" for a work means the preferred form of the work\n",
            "        for making modifications to it.  \"Object code\" means any non-source\n",
            "        form of a work.\n",
            "        \n",
            "          A \"Standard Interface\" means an interface that either is an official\n",
            "        standard defined by a recognized standards body, or, in the case of\n",
            "        interfaces specified for a particular programming language, one that\n",
            "        is widely used among developers working in that language.\n",
            "        \n",
            "          The \"System Libraries\" of an executable work include anything, other\n",
            "        than the work as a whole, that (a) is included in the normal form of\n",
            "        packaging a Major Component, but which is not part of that Major\n",
            "        Component, and (b) serves only to enable use of the work with that\n",
            "        Major Component, or to implement a Standard Interface for which an\n",
            "        implementation is available to the public in source code form.  A\n",
            "        \"Major Component\", in this context, means a major essential component\n",
            "        (kernel, window system, and so on) of the specific operating system\n",
            "        (if any) on which the executable work runs, or a compiler used to\n",
            "        produce the work, or an object code interpreter used to run it.\n",
            "        \n",
            "          The \"Corresponding Source\" for a work in object code form means all\n",
            "        the source code needed to generate, install, and (for an executable\n",
            "        work) run the object code and to modify the work, including scripts to\n",
            "        control those activities.  However, it does not include the work's\n",
            "        System Libraries, or general-purpose tools or generally available free\n",
            "        programs which are used unmodified in performing those activities but\n",
            "        which are not part of the work.  For example, Corresponding Source\n",
            "        includes interface definition files associated with source files for\n",
            "        the work, and the source code for shared libraries and dynamically\n",
            "        linked subprograms that the work is specifically designed to require,\n",
            "        such as by intimate data communication or control flow between those\n",
            "        subprograms and other parts of the work.\n",
            "        \n",
            "          The Corresponding Source need not include anything that users\n",
            "        can regenerate automatically from other parts of the Corresponding\n",
            "        Source.\n",
            "        \n",
            "          The Corresponding Source for a work in source code form is that\n",
            "        same work.\n",
            "        \n",
            "          2. Basic Permissions.\n",
            "        \n",
            "          All rights granted under this License are granted for the term of\n",
            "        copyright on the Program, and are irrevocable provided the stated\n",
            "        conditions are met.  This License explicitly affirms your unlimited\n",
            "        permission to run the unmodified Program.  The output from running a\n",
            "        covered work is covered by this License only if the output, given its\n",
            "        content, constitutes a covered work.  This License acknowledges your\n",
            "        rights of fair use or other equivalent, as provided by copyright law.\n",
            "        \n",
            "          You may make, run and propagate covered works that you do not\n",
            "        convey, without conditions so long as your license otherwise remains\n",
            "        in force.  You may convey covered works to others for the sole purpose\n",
            "        of having them make modifications exclusively for you, or provide you\n",
            "        with facilities for running those works, provided that you comply with\n",
            "        the terms of this License in conveying all material for which you do\n",
            "        not control copyright.  Those thus making or running the covered works\n",
            "        for you must do so exclusively on your behalf, under your direction\n",
            "        and control, on terms that prohibit them from making any copies of\n",
            "        your copyrighted material outside their relationship with you.\n",
            "        \n",
            "          Conveying under any other circumstances is permitted solely under\n",
            "        the conditions stated below.  Sublicensing is not allowed; section 10\n",
            "        makes it unnecessary.\n",
            "        \n",
            "          3. Protecting Users' Legal Rights From Anti-Circumvention Law.\n",
            "        \n",
            "          No covered work shall be deemed part of an effective technological\n",
            "        measure under any applicable law fulfilling obligations under article\n",
            "        11 of the WIPO copyright treaty adopted on 20 December 1996, or\n",
            "        similar laws prohibiting or restricting circumvention of such\n",
            "        measures.\n",
            "        \n",
            "          When you convey a covered work, you waive any legal power to forbid\n",
            "        circumvention of technological measures to the extent such circumvention\n",
            "        is effected by exercising rights under this License with respect to\n",
            "        the covered work, and you disclaim any intention to limit operation or\n",
            "        modification of the work as a means of enforcing, against the work's\n",
            "        users, your or third parties' legal rights to forbid circumvention of\n",
            "        technological measures.\n",
            "        \n",
            "          4. Conveying Verbatim Copies.\n",
            "        \n",
            "          You may convey verbatim copies of the Program's source code as you\n",
            "        receive it, in any medium, provided that you conspicuously and\n",
            "        appropriately publish on each copy an appropriate copyright notice;\n",
            "        keep intact all notices stating that this License and any\n",
            "        non-permissive terms added in accord with section 7 apply to the code;\n",
            "        keep intact all notices of the absence of any warranty; and give all\n",
            "        recipients a copy of this License along with the Program.\n",
            "        \n",
            "          You may charge any price or no price for each copy that you convey,\n",
            "        and you may offer support or warranty protection for a fee.\n",
            "        \n",
            "          5. Conveying Modified Source Versions.\n",
            "        \n",
            "          You may convey a work based on the Program, or the modifications to\n",
            "        produce it from the Program, in the form of source code under the\n",
            "        terms of section 4, provided that you also meet all of these conditions:\n",
            "        \n",
            "            a) The work must carry prominent notices stating that you modified\n",
            "            it, and giving a relevant date.\n",
            "        \n",
            "            b) The work must carry prominent notices stating that it is\n",
            "            released under this License and any conditions added under section\n",
            "            7.  This requirement modifies the requirement in section 4 to\n",
            "            \"keep intact all notices\".\n",
            "        \n",
            "            c) You must license the entire work, as a whole, under this\n",
            "            License to anyone who comes into possession of a copy.  This\n",
            "            License will therefore apply, along with any applicable section 7\n",
            "            additional terms, to the whole of the work, and all its parts,\n",
            "            regardless of how they are packaged.  This License gives no\n",
            "            permission to license the work in any other way, but it does not\n",
            "            invalidate such permission if you have separately received it.\n",
            "        \n",
            "            d) If the work has interactive user interfaces, each must display\n",
            "            Appropriate Legal Notices; however, if the Program has interactive\n",
            "            interfaces that do not display Appropriate Legal Notices, your\n",
            "            work need not make them do so.\n",
            "        \n",
            "          A compilation of a covered work with other separate and independent\n",
            "        works, which are not by their nature extensions of the covered work,\n",
            "        and which are not combined with it such as to form a larger program,\n",
            "        in or on a volume of a storage or distribution medium, is called an\n",
            "        \"aggregate\" if the compilation and its resulting copyright are not\n",
            "        used to limit the access or legal rights of the compilation's users\n",
            "        beyond what the individual works permit.  Inclusion of a covered work\n",
            "        in an aggregate does not cause this License to apply to the other\n",
            "        parts of the aggregate.\n",
            "        \n",
            "          6. Conveying Non-Source Forms.\n",
            "        \n",
            "          You may convey a covered work in object code form under the terms\n",
            "        of sections 4 and 5, provided that you also convey the\n",
            "        machine-readable Corresponding Source under the terms of this License,\n",
            "        in one of these ways:\n",
            "        \n",
            "            a) Convey the object code in, or embodied in, a physical product\n",
            "            (including a physical distribution medium), accompanied by the\n",
            "            Corresponding Source fixed on a durable physical medium\n",
            "            customarily used for software interchange.\n",
            "        \n",
            "            b) Convey the object code in, or embodied in, a physical product\n",
            "            (including a physical distribution medium), accompanied by a\n",
            "            written offer, valid for at least three years and valid for as\n",
            "            long as you offer spare parts or customer support for that product\n",
            "            model, to give anyone who possesses the object code either (1) a\n",
            "            copy of the Corresponding Source for all the software in the\n",
            "            product that is covered by this License, on a durable physical\n",
            "            medium customarily used for software interchange, for a price no\n",
            "            more than your reasonable cost of physically performing this\n",
            "            conveying of source, or (2) access to copy the\n",
            "            Corresponding Source from a network server at no charge.\n",
            "        \n",
            "            c) Convey individual copies of the object code with a copy of the\n",
            "            written offer to provide the Corresponding Source.  This\n",
            "            alternative is allowed only occasionally and noncommercially, and\n",
            "            only if you received the object code with such an offer, in accord\n",
            "            with subsection 6b.\n",
            "        \n",
            "            d) Convey the object code by offering access from a designated\n",
            "            place (gratis or for a charge), and offer equivalent access to the\n",
            "            Corresponding Source in the same way through the same place at no\n",
            "            further charge.  You need not require recipients to copy the\n",
            "            Corresponding Source along with the object code.  If the place to\n",
            "            copy the object code is a network server, the Corresponding Source\n",
            "            may be on a different server (operated by you or a third party)\n",
            "            that supports equivalent copying facilities, provided you maintain\n",
            "            clear directions next to the object code saying where to find the\n",
            "            Corresponding Source.  Regardless of what server hosts the\n",
            "            Corresponding Source, you remain obligated to ensure that it is\n",
            "            available for as long as needed to satisfy these requirements.\n",
            "        \n",
            "            e) Convey the object code using peer-to-peer transmission, provided\n",
            "            you inform other peers where the object code and Corresponding\n",
            "            Source of the work are being offered to the general public at no\n",
            "            charge under subsection 6d.\n",
            "        \n",
            "          A separable portion of the object code, whose source code is excluded\n",
            "        from the Corresponding Source as a System Library, need not be\n",
            "        included in conveying the object code work.\n",
            "        \n",
            "          A \"User Product\" is either (1) a \"consumer product\", which means any\n",
            "        tangible personal property which is normally used for personal, family,\n",
            "        or household purposes, or (2) anything designed or sold for incorporation\n",
            "        into a dwelling.  In determining whether a product is a consumer product,\n",
            "        doubtful cases shall be resolved in favor of coverage.  For a particular\n",
            "        product received by a particular user, \"normally used\" refers to a\n",
            "        typical or common use of that class of product, regardless of the status\n",
            "        of the particular user or of the way in which the particular user\n",
            "        actually uses, or expects or is expected to use, the product.  A product\n",
            "        is a consumer product regardless of whether the product has substantial\n",
            "        commercial, industrial or non-consumer uses, unless such uses represent\n",
            "        the only significant mode of use of the product.\n",
            "        \n",
            "          \"Installation Information\" for a User Product means any methods,\n",
            "        procedures, authorization keys, or other information required to install\n",
            "        and execute modified versions of a covered work in that User Product from\n",
            "        a modified version of its Corresponding Source.  The information must\n",
            "        suffice to ensure that the continued functioning of the modified object\n",
            "        code is in no case prevented or interfered with solely because\n",
            "        modification has been made.\n",
            "        \n",
            "          If you convey an object code work under this section in, or with, or\n",
            "        specifically for use in, a User Product, and the conveying occurs as\n",
            "        part of a transaction in which the right of possession and use of the\n",
            "        User Product is transferred to the recipient in perpetuity or for a\n",
            "        fixed term (regardless of how the transaction is characterized), the\n",
            "        Corresponding Source conveyed under this section must be accompanied\n",
            "        by the Installation Information.  But this requirement does not apply\n",
            "        if neither you nor any third party retains the ability to install\n",
            "        modified object code on the User Product (for example, the work has\n",
            "        been installed in ROM).\n",
            "        \n",
            "          The requirement to provide Installation Information does not include a\n",
            "        requirement to continue to provide support service, warranty, or updates\n",
            "        for a work that has been modified or installed by the recipient, or for\n",
            "        the User Product in which it has been modified or installed.  Access to a\n",
            "        network may be denied when the modification itself materially and\n",
            "        adversely affects the operation of the network or violates the rules and\n",
            "        protocols for communication across the network.\n",
            "        \n",
            "          Corresponding Source conveyed, and Installation Information provided,\n",
            "        in accord with this section must be in a format that is publicly\n",
            "        documented (and with an implementation available to the public in\n",
            "        source code form), and must require no special password or key for\n",
            "        unpacking, reading or copying.\n",
            "        \n",
            "          7. Additional Terms.\n",
            "        \n",
            "          \"Additional permissions\" are terms that supplement the terms of this\n",
            "        License by making exceptions from one or more of its conditions.\n",
            "        Additional permissions that are applicable to the entire Program shall\n",
            "        be treated as though they were included in this License, to the extent\n",
            "        that they are valid under applicable law.  If additional permissions\n",
            "        apply only to part of the Program, that part may be used separately\n",
            "        under those permissions, but the entire Program remains governed by\n",
            "        this License without regard to the additional permissions.\n",
            "        \n",
            "          When you convey a copy of a covered work, you may at your option\n",
            "        remove any additional permissions from that copy, or from any part of\n",
            "        it.  (Additional permissions may be written to require their own\n",
            "        removal in certain cases when you modify the work.)  You may place\n",
            "        additional permissions on material, added by you to a covered work,\n",
            "        for which you have or can give appropriate copyright permission.\n",
            "        \n",
            "          Notwithstanding any other provision of this License, for material you\n",
            "        add to a covered work, you may (if authorized by the copyright holders of\n",
            "        that material) supplement the terms of this License with terms:\n",
            "        \n",
            "            a) Disclaiming warranty or limiting liability differently from the\n",
            "            terms of sections 15 and 16 of this License; or\n",
            "        \n",
            "            b) Requiring preservation of specified reasonable legal notices or\n",
            "            author attributions in that material or in the Appropriate Legal\n",
            "            Notices displayed by works containing it; or\n",
            "        \n",
            "            c) Prohibiting misrepresentation of the origin of that material, or\n",
            "            requiring that modified versions of such material be marked in\n",
            "            reasonable ways as different from the original version; or\n",
            "        \n",
            "            d) Limiting the use for publicity purposes of names of licensors or\n",
            "            authors of the material; or\n",
            "        \n",
            "            e) Declining to grant rights under trademark law for use of some\n",
            "            trade names, trademarks, or service marks; or\n",
            "        \n",
            "            f) Requiring indemnification of licensors and authors of that\n",
            "            material by anyone who conveys the material (or modified versions of\n",
            "            it) with contractual assumptions of liability to the recipient, for\n",
            "            any liability that these contractual assumptions directly impose on\n",
            "            those licensors and authors.\n",
            "        \n",
            "          All other non-permissive additional terms are considered \"further\n",
            "        restrictions\" within the meaning of section 10.  If the Program as you\n",
            "        received it, or any part of it, contains a notice stating that it is\n",
            "        governed by this License along with a term that is a further\n",
            "        restriction, you may remove that term.  If a license document contains\n",
            "        a further restriction but permits relicensing or conveying under this\n",
            "        License, you may add to a covered work material governed by the terms\n",
            "        of that license document, provided that the further restriction does\n",
            "        not survive such relicensing or conveying.\n",
            "        \n",
            "          If you add terms to a covered work in accord with this section, you\n",
            "        must place, in the relevant source files, a statement of the\n",
            "        additional terms that apply to those files, or a notice indicating\n",
            "        where to find the applicable terms.\n",
            "        \n",
            "          Additional terms, permissive or non-permissive, may be stated in the\n",
            "        form of a separately written license, or stated as exceptions;\n",
            "        the above requirements apply either way.\n",
            "        \n",
            "          8. Termination.\n",
            "        \n",
            "          You may not propagate or modify a covered work except as expressly\n",
            "        provided under this License.  Any attempt otherwise to propagate or\n",
            "        modify it is void, and will automatically terminate your rights under\n",
            "        this License (including any patent licenses granted under the third\n",
            "        paragraph of section 11).\n",
            "        \n",
            "          However, if you cease all violation of this License, then your\n",
            "        license from a particular copyright holder is reinstated (a)\n",
            "        provisionally, unless and until the copyright holder explicitly and\n",
            "        finally terminates your license, and (b) permanently, if the copyright\n",
            "        holder fails to notify you of the violation by some reasonable means\n",
            "        prior to 60 days after the cessation.\n",
            "        \n",
            "          Moreover, your license from a particular copyright holder is\n",
            "        reinstated permanently if the copyright holder notifies you of the\n",
            "        violation by some reasonable means, this is the first time you have\n",
            "        received notice of violation of this License (for any work) from that\n",
            "        copyright holder, and you cure the violation prior to 30 days after\n",
            "        your receipt of the notice.\n",
            "        \n",
            "          Termination of your rights under this section does not terminate the\n",
            "        licenses of parties who have received copies or rights from you under\n",
            "        this License.  If your rights have been terminated and not permanently\n",
            "        reinstated, you do not qualify to receive new licenses for the same\n",
            "        material under section 10.\n",
            "        \n",
            "          9. Acceptance Not Required for Having Copies.\n",
            "        \n",
            "          You are not required to accept this License in order to receive or\n",
            "        run a copy of the Program.  Ancillary propagation of a covered work\n",
            "        occurring solely as a consequence of using peer-to-peer transmission\n",
            "        to receive a copy likewise does not require acceptance.  However,\n",
            "        nothing other than this License grants you permission to propagate or\n",
            "        modify any covered work.  These actions infringe copyright if you do\n",
            "        not accept this License.  Therefore, by modifying or propagating a\n",
            "        covered work, you indicate your acceptance of this License to do so.\n",
            "        \n",
            "          10. Automatic Licensing of Downstream Recipients.\n",
            "        \n",
            "          Each time you convey a covered work, the recipient automatically\n",
            "        receives a license from the original licensors, to run, modify and\n",
            "        propagate that work, subject to this License.  You are not responsible\n",
            "        for enforcing compliance by third parties with this License.\n",
            "        \n",
            "          An \"entity transaction\" is a transaction transferring control of an\n",
            "        organization, or substantially all assets of one, or subdividing an\n",
            "        organization, or merging organizations.  If propagation of a covered\n",
            "        work results from an entity transaction, each party to that\n",
            "        transaction who receives a copy of the work also receives whatever\n",
            "        licenses to the work the party's predecessor in interest had or could\n",
            "        give under the previous paragraph, plus a right to possession of the\n",
            "        Corresponding Source of the work from the predecessor in interest, if\n",
            "        the predecessor has it or can get it with reasonable efforts.\n",
            "        \n",
            "          You may not impose any further restrictions on the exercise of the\n",
            "        rights granted or affirmed under this License.  For example, you may\n",
            "        not impose a license fee, royalty, or other charge for exercise of\n",
            "        rights granted under this License, and you may not initiate litigation\n",
            "        (including a cross-claim or counterclaim in a lawsuit) alleging that\n",
            "        any patent claim is infringed by making, using, selling, offering for\n",
            "        sale, or importing the Program or any portion of it.\n",
            "        \n",
            "          11. Patents.\n",
            "        \n",
            "          A \"contributor\" is a copyright holder who authorizes use under this\n",
            "        License of the Program or a work on which the Program is based.  The\n",
            "        work thus licensed is called the contributor's \"contributor version\".\n",
            "        \n",
            "          A contributor's \"essential patent claims\" are all patent claims\n",
            "        owned or controlled by the contributor, whether already acquired or\n",
            "        hereafter acquired, that would be infringed by some manner, permitted\n",
            "        by this License, of making, using, or selling its contributor version,\n",
            "        but do not include claims that would be infringed only as a\n",
            "        consequence of further modification of the contributor version.  For\n",
            "        purposes of this definition, \"control\" includes the right to grant\n",
            "        patent sublicenses in a manner consistent with the requirements of\n",
            "        this License.\n",
            "        \n",
            "          Each contributor grants you a non-exclusive, worldwide, royalty-free\n",
            "        patent license under the contributor's essential patent claims, to\n",
            "        make, use, sell, offer for sale, import and otherwise run, modify and\n",
            "        propagate the contents of its contributor version.\n",
            "        \n",
            "          In the following three paragraphs, a \"patent license\" is any express\n",
            "        agreement or commitment, however denominated, not to enforce a patent\n",
            "        (such as an express permission to practice a patent or covenant not to\n",
            "        sue for patent infringement).  To \"grant\" such a patent license to a\n",
            "        party means to make such an agreement or commitment not to enforce a\n",
            "        patent against the party.\n",
            "        \n",
            "          If you convey a covered work, knowingly relying on a patent license,\n",
            "        and the Corresponding Source of the work is not available for anyone\n",
            "        to copy, free of charge and under the terms of this License, through a\n",
            "        publicly available network server or other readily accessible means,\n",
            "        then you must either (1) cause the Corresponding Source to be so\n",
            "        available, or (2) arrange to deprive yourself of the benefit of the\n",
            "        patent license for this particular work, or (3) arrange, in a manner\n",
            "        consistent with the requirements of this License, to extend the patent\n",
            "        license to downstream recipients.  \"Knowingly relying\" means you have\n",
            "        actual knowledge that, but for the patent license, your conveying the\n",
            "        covered work in a country, or your recipient's use of the covered work\n",
            "        in a country, would infringe one or more identifiable patents in that\n",
            "        country that you have reason to believe are valid.\n",
            "        \n",
            "          If, pursuant to or in connection with a single transaction or\n",
            "        arrangement, you convey, or propagate by procuring conveyance of, a\n",
            "        covered work, and grant a patent license to some of the parties\n",
            "        receiving the covered work authorizing them to use, propagate, modify\n",
            "        or convey a specific copy of the covered work, then the patent license\n",
            "        you grant is automatically extended to all recipients of the covered\n",
            "        work and works based on it.\n",
            "        \n",
            "          A patent license is \"discriminatory\" if it does not include within\n",
            "        the scope of its coverage, prohibits the exercise of, or is\n",
            "        conditioned on the non-exercise of one or more of the rights that are\n",
            "        specifically granted under this License.  You may not convey a covered\n",
            "        work if you are a party to an arrangement with a third party that is\n",
            "        in the business of distributing software, under which you make payment\n",
            "        to the third party based on the extent of your activity of conveying\n",
            "        the work, and under which the third party grants, to any of the\n",
            "        parties who would receive the covered work from you, a discriminatory\n",
            "        patent license (a) in connection with copies of the covered work\n",
            "        conveyed by you (or copies made from those copies), or (b) primarily\n",
            "        for and in connection with specific products or compilations that\n",
            "        contain the covered work, unless you entered into that arrangement,\n",
            "        or that patent license was granted, prior to 28 March 2007.\n",
            "        \n",
            "          Nothing in this License shall be construed as excluding or limiting\n",
            "        any implied license or other defenses to infringement that may\n",
            "        otherwise be available to you under applicable patent law.\n",
            "        \n",
            "          12. No Surrender of Others' Freedom.\n",
            "        \n",
            "          If conditions are imposed on you (whether by court order, agreement or\n",
            "        otherwise) that contradict the conditions of this License, they do not\n",
            "        excuse you from the conditions of this License.  If you cannot convey a\n",
            "        covered work so as to satisfy simultaneously your obligations under this\n",
            "        License and any other pertinent obligations, then as a consequence you may\n",
            "        not convey it at all.  For example, if you agree to terms that obligate you\n",
            "        to collect a royalty for further conveying from those to whom you convey\n",
            "        the Program, the only way you could satisfy both those terms and this\n",
            "        License would be to refrain entirely from conveying the Program.\n",
            "        \n",
            "          13. Use with the GNU Affero General Public License.\n",
            "        \n",
            "          Notwithstanding any other provision of this License, you have\n",
            "        permission to link or combine any covered work with a work licensed\n",
            "        under version 3 of the GNU Affero General Public License into a single\n",
            "        combined work, and to convey the resulting work.  The terms of this\n",
            "        License will continue to apply to the part which is the covered work,\n",
            "        but the special requirements of the GNU Affero General Public License,\n",
            "        section 13, concerning interaction through a network will apply to the\n",
            "        combination as such.\n",
            "        \n",
            "          14. Revised Versions of this License.\n",
            "        \n",
            "          The Free Software Foundation may publish revised and/or new versions of\n",
            "        the GNU General Public License from time to time.  Such new versions will\n",
            "        be similar in spirit to the present version, but may differ in detail to\n",
            "        address new problems or concerns.\n",
            "        \n",
            "          Each version is given a distinguishing version number.  If the\n",
            "        Program specifies that a certain numbered version of the GNU General\n",
            "        Public License \"or any later version\" applies to it, you have the\n",
            "        option of following the terms and conditions either of that numbered\n",
            "        version or of any later version published by the Free Software\n",
            "        Foundation.  If the Program does not specify a version number of the\n",
            "        GNU General Public License, you may choose any version ever published\n",
            "        by the Free Software Foundation.\n",
            "        \n",
            "          If the Program specifies that a proxy can decide which future\n",
            "        versions of the GNU General Public License can be used, that proxy's\n",
            "        public statement of acceptance of a version permanently authorizes you\n",
            "        to choose that version for the Program.\n",
            "        \n",
            "          Later license versions may give you additional or different\n",
            "        permissions.  However, no additional obligations are imposed on any\n",
            "        author or copyright holder as a result of your choosing to follow a\n",
            "        later version.\n",
            "        \n",
            "          15. Disclaimer of Warranty.\n",
            "        \n",
            "          THERE IS NO WARRANTY FOR THE PROGRAM, TO THE EXTENT PERMITTED BY\n",
            "        APPLICABLE LAW.  EXCEPT WHEN OTHERWISE STATED IN WRITING THE COPYRIGHT\n",
            "        HOLDERS AND/OR OTHER PARTIES PROVIDE THE PROGRAM \"AS IS\" WITHOUT WARRANTY\n",
            "        OF ANY KIND, EITHER EXPRESSED OR IMPLIED, INCLUDING, BUT NOT LIMITED TO,\n",
            "        THE IMPLIED WARRANTIES OF MERCHANTABILITY AND FITNESS FOR A PARTICULAR\n",
            "        PURPOSE.  THE ENTIRE RISK AS TO THE QUALITY AND PERFORMANCE OF THE PROGRAM\n",
            "        IS WITH YOU.  SHOULD THE PROGRAM PROVE DEFECTIVE, YOU ASSUME THE COST OF\n",
            "        ALL NECESSARY SERVICING, REPAIR OR CORRECTION.\n",
            "        \n",
            "          16. Limitation of Liability.\n",
            "        \n",
            "          IN NO EVENT UNLESS REQUIRED BY APPLICABLE LAW OR AGREED TO IN WRITING\n",
            "        WILL ANY COPYRIGHT HOLDER, OR ANY OTHER PARTY WHO MODIFIES AND/OR CONVEYS\n",
            "        THE PROGRAM AS PERMITTED ABOVE, BE LIABLE TO YOU FOR DAMAGES, INCLUDING ANY\n",
            "        GENERAL, SPECIAL, INCIDENTAL OR CONSEQUENTIAL DAMAGES ARISING OUT OF THE\n",
            "        USE OR INABILITY TO USE THE PROGRAM (INCLUDING BUT NOT LIMITED TO LOSS OF\n",
            "        DATA OR DATA BEING RENDERED INACCURATE OR LOSSES SUSTAINED BY YOU OR THIRD\n",
            "        PARTIES OR A FAILURE OF THE PROGRAM TO OPERATE WITH ANY OTHER PROGRAMS),\n",
            "        EVEN IF SUCH HOLDER OR OTHER PARTY HAS BEEN ADVISED OF THE POSSIBILITY OF\n",
            "        SUCH DAMAGES.\n",
            "        \n",
            "          17. Interpretation of Sections 15 and 16.\n",
            "        \n",
            "          If the disclaimer of warranty and limitation of liability provided\n",
            "        above cannot be given local legal effect according to their terms,\n",
            "        reviewing courts shall apply local law that most closely approximates\n",
            "        an absolute waiver of all civil liability in connection with the\n",
            "        Program, unless a warranty or assumption of liability accompanies a\n",
            "        copy of the Program in return for a fee.\n",
            "        \n",
            "                             END OF TERMS AND CONDITIONS\n",
            "        \n",
            "                    How to Apply These Terms to Your New Programs\n",
            "        \n",
            "          If you develop a new program, and you want it to be of the greatest\n",
            "        possible use to the public, the best way to achieve this is to make it\n",
            "        free software which everyone can redistribute and change under these terms.\n",
            "        \n",
            "          To do so, attach the following notices to the program.  It is safest\n",
            "        to attach them to the start of each source file to most effectively\n",
            "        state the exclusion of warranty; and each file should have at least\n",
            "        the \"copyright\" line and a pointer to where the full notice is found.\n",
            "        \n",
            "            <one line to give the program's name and a brief idea of what it does.>\n",
            "            Copyright (C) <year>  <name of author>\n",
            "        \n",
            "            This program is free software: you can redistribute it and/or modify\n",
            "            it under the terms of the GNU General Public License as published by\n",
            "            the Free Software Foundation, either version 3 of the License, or\n",
            "            (at your option) any later version.\n",
            "        \n",
            "            This program is distributed in the hope that it will be useful,\n",
            "            but WITHOUT ANY WARRANTY; without even the implied warranty of\n",
            "            MERCHANTABILITY or FITNESS FOR A PARTICULAR PURPOSE.  See the\n",
            "            GNU General Public License for more details.\n",
            "        \n",
            "            You should have received a copy of the GNU General Public License\n",
            "            along with this program.  If not, see <http://www.gnu.org/licenses/>.\n",
            "        \n",
            "        Also add information on how to contact you by electronic and paper mail.\n",
            "        \n",
            "          If the program does terminal interaction, make it output a short\n",
            "        notice like this when it starts in an interactive mode:\n",
            "        \n",
            "            <program>  Copyright (C) <year>  <name of author>\n",
            "            This program comes with ABSOLUTELY NO WARRANTY; for details type `show w'.\n",
            "            This is free software, and you are welcome to redistribute it\n",
            "            under certain conditions; type `show c' for details.\n",
            "        \n",
            "        The hypothetical commands `show w' and `show c' should show the appropriate\n",
            "        parts of the General Public License.  Of course, your program's commands\n",
            "        might be different; for a GUI interface, you would use an \"about box\".\n",
            "        \n",
            "          You should also get your employer (if you work as a programmer) or school,\n",
            "        if any, to sign a \"copyright disclaimer\" for the program, if necessary.\n",
            "        For more information on this, and how to apply and follow the GNU GPL, see\n",
            "        <http://www.gnu.org/licenses/>.\n",
            "        \n",
            "          The GNU General Public License does not permit incorporating your program\n",
            "        into proprietary programs.  If your program is a subroutine library, you\n",
            "        may consider it more useful to permit linking proprietary applications with\n",
            "        the library.  If this is what you want to do, use the GNU Lesser General\n",
            "        Public License instead of this License.  But first, please read\n",
            "        <http://www.gnu.org/philosophy/why-not-lgpl.html>.\n",
            "        \n",
            "        Name: libquadmath\n",
            "        Files: numpy.libs/libquadmath*.so\n",
            "        Description: dynamically linked to files compiled with gcc\n",
            "        Availability: https://gcc.gnu.org/git/?p=gcc.git;a=tree;f=libquadmath\n",
            "        License: LGPL-2.1-or-later\n",
            "        \n",
            "            GCC Quad-Precision Math Library\n",
            "            Copyright (C) 2010-2019 Free Software Foundation, Inc.\n",
            "            Written by Francois-Xavier Coudert  <fxcoudert@gcc.gnu.org>\n",
            "        \n",
            "            This file is part of the libquadmath library.\n",
            "            Libquadmath is free software; you can redistribute it and/or\n",
            "            modify it under the terms of the GNU Library General Public\n",
            "            License as published by the Free Software Foundation; either\n",
            "            version 2.1 of the License, or (at your option) any later version.\n",
            "        \n",
            "            Libquadmath is distributed in the hope that it will be useful,\n",
            "            but WITHOUT ANY WARRANTY; without even the implied warranty of\n",
            "            MERCHANTABILITY or FITNESS FOR A PARTICULAR PURPOSE.  See the GNU\n",
            "            Lesser General Public License for more details.\n",
            "            https://www.gnu.org/licenses/old-licenses/lgpl-2.1.html\n",
            "Location: /usr/local/lib/python3.10/dist-packages\n",
            "Requires: \n",
            "Required-by: accelerate, albucore, albumentations, altair, arviz, astropy, autograd, bigframes, blis, bokeh, Bottleneck, bqplot, chex, clarabel, cmdstanpy, contourpy, cudf-cu12, cufflinks, cupy-cuda12x, cvxpy, datascience, db-dtypes, dopamine_rl, ecos, flax, folium, geemap, gensim, geopandas, gym, h5py, holoviews, hyperopt, ibis-framework, imageio, imbalanced-learn, imgaug, jax, jaxlib, keras, librosa, lightgbm, matplotlib, matplotlib-venn, mizani, ml-dtypes, mlxtend, moviepy, music21, nibabel, numba, numexpr, opencv-contrib-python, opencv-python, opencv-python-headless, optax, orbax-checkpoint, osqp, pandas, pandas-gbq, pandas-stubs, patsy, plotnine, prophet, pyarrow, pycocotools, pyerfa, pymc, pyogrio, pytensor, python-louvain, qdldl, rmm-cu12, scikit-image, scikit-learn, scipy, scs, seaborn, shapely, sklearn-pandas, soxr, spacy, stanio, statsmodels, tables, tensorboard, tensorflow, tensorflow-datasets, tensorflow-hub, tensorflow-probability, tensorstore, thinc, tifffile, torchvision, transformers, wordcloud, xarray, xarray-einstats, xgboost, yellowbrick, yfinance\n"
          ]
        }
      ],
      "source": [
        "pip show numpy"
      ]
    },
    {
      "cell_type": "markdown",
      "metadata": {
        "id": "KSNOrnoMHEjD"
      },
      "source": [
        "### 파이썬 오류 확인"
      ]
    },
    {
      "cell_type": "code",
      "execution_count": null,
      "metadata": {
        "id": "B8pmiTi5G8JX",
        "colab": {
          "base_uri": "https://localhost:8080/"
        },
        "outputId": "c29eaa66-53d4-47e9-8938-0a3b0d988d58"
      },
      "outputs": [
        {
          "output_type": "stream",
          "name": "stdout",
          "text": [
            "a < 9\n"
          ]
        }
      ],
      "source": [
        "# Syntax 오류 발생 예\n",
        "a = 1\n",
        "if a < 9:\n",
        "    print('a < 9')"
      ]
    },
    {
      "cell_type": "markdown",
      "source": [
        "### 파이썬 예외처리 방법"
      ],
      "metadata": {
        "id": "DJQhC7btE_L5"
      }
    },
    {
      "cell_type": "code",
      "execution_count": null,
      "metadata": {
        "id": "GJ1Y-0wMHXJd",
        "colab": {
          "base_uri": "https://localhost:8080/",
          "height": 379
        },
        "outputId": "7dd5ea37-6114-460c-a56e-f311a69be37d"
      },
      "outputs": [
        {
          "output_type": "error",
          "ename": "KeyboardInterrupt",
          "evalue": "Interrupted by user",
          "traceback": [
            "\u001b[0;31m---------------------------------------------------------------------------\u001b[0m",
            "\u001b[0;31mKeyboardInterrupt\u001b[0m                         Traceback (most recent call last)",
            "\u001b[0;32m<ipython-input-11-bd1ed35b14ac>\u001b[0m in \u001b[0;36m<cell line: 2>\u001b[0;34m()\u001b[0m\n\u001b[1;32m      2\u001b[0m \u001b[0;32mwhile\u001b[0m \u001b[0;32mTrue\u001b[0m\u001b[0;34m:\u001b[0m\u001b[0;34m\u001b[0m\u001b[0;34m\u001b[0m\u001b[0m\n\u001b[1;32m      3\u001b[0m     \u001b[0;32mtry\u001b[0m\u001b[0;34m:\u001b[0m\u001b[0;34m\u001b[0m\u001b[0;34m\u001b[0m\u001b[0m\n\u001b[0;32m----> 4\u001b[0;31m         \u001b[0mx\u001b[0m \u001b[0;34m=\u001b[0m \u001b[0mint\u001b[0m\u001b[0;34m(\u001b[0m\u001b[0minput\u001b[0m\u001b[0;34m(\u001b[0m\u001b[0;34m'Please enter a number: '\u001b[0m\u001b[0;34m)\u001b[0m\u001b[0;34m)\u001b[0m\u001b[0;34m\u001b[0m\u001b[0;34m\u001b[0m\u001b[0m\n\u001b[0m\u001b[1;32m      5\u001b[0m         \u001b[0;32mbreak\u001b[0m\u001b[0;34m\u001b[0m\u001b[0;34m\u001b[0m\u001b[0m\n\u001b[1;32m      6\u001b[0m \u001b[0;34m\u001b[0m\u001b[0m\n",
            "\u001b[0;32m/usr/local/lib/python3.10/dist-packages/ipykernel/kernelbase.py\u001b[0m in \u001b[0;36mraw_input\u001b[0;34m(self, prompt)\u001b[0m\n\u001b[1;32m    849\u001b[0m                 \u001b[0;34m\"raw_input was called, but this frontend does not support input requests.\"\u001b[0m\u001b[0;34m\u001b[0m\u001b[0;34m\u001b[0m\u001b[0m\n\u001b[1;32m    850\u001b[0m             )\n\u001b[0;32m--> 851\u001b[0;31m         return self._input_request(str(prompt),\n\u001b[0m\u001b[1;32m    852\u001b[0m             \u001b[0mself\u001b[0m\u001b[0;34m.\u001b[0m\u001b[0m_parent_ident\u001b[0m\u001b[0;34m,\u001b[0m\u001b[0;34m\u001b[0m\u001b[0;34m\u001b[0m\u001b[0m\n\u001b[1;32m    853\u001b[0m             \u001b[0mself\u001b[0m\u001b[0;34m.\u001b[0m\u001b[0m_parent_header\u001b[0m\u001b[0;34m,\u001b[0m\u001b[0;34m\u001b[0m\u001b[0;34m\u001b[0m\u001b[0m\n",
            "\u001b[0;32m/usr/local/lib/python3.10/dist-packages/ipykernel/kernelbase.py\u001b[0m in \u001b[0;36m_input_request\u001b[0;34m(self, prompt, ident, parent, password)\u001b[0m\n\u001b[1;32m    893\u001b[0m             \u001b[0;32mexcept\u001b[0m \u001b[0mKeyboardInterrupt\u001b[0m\u001b[0;34m:\u001b[0m\u001b[0;34m\u001b[0m\u001b[0;34m\u001b[0m\u001b[0m\n\u001b[1;32m    894\u001b[0m                 \u001b[0;31m# re-raise KeyboardInterrupt, to truncate traceback\u001b[0m\u001b[0;34m\u001b[0m\u001b[0;34m\u001b[0m\u001b[0m\n\u001b[0;32m--> 895\u001b[0;31m                 \u001b[0;32mraise\u001b[0m \u001b[0mKeyboardInterrupt\u001b[0m\u001b[0;34m(\u001b[0m\u001b[0;34m\"Interrupted by user\"\u001b[0m\u001b[0;34m)\u001b[0m \u001b[0;32mfrom\u001b[0m \u001b[0;32mNone\u001b[0m\u001b[0;34m\u001b[0m\u001b[0;34m\u001b[0m\u001b[0m\n\u001b[0m\u001b[1;32m    896\u001b[0m             \u001b[0;32mexcept\u001b[0m \u001b[0mException\u001b[0m \u001b[0;32mas\u001b[0m \u001b[0me\u001b[0m\u001b[0;34m:\u001b[0m\u001b[0;34m\u001b[0m\u001b[0;34m\u001b[0m\u001b[0m\n\u001b[1;32m    897\u001b[0m                 \u001b[0mself\u001b[0m\u001b[0;34m.\u001b[0m\u001b[0mlog\u001b[0m\u001b[0;34m.\u001b[0m\u001b[0mwarning\u001b[0m\u001b[0;34m(\u001b[0m\u001b[0;34m\"Invalid Message:\"\u001b[0m\u001b[0;34m,\u001b[0m \u001b[0mexc_info\u001b[0m\u001b[0;34m=\u001b[0m\u001b[0;32mTrue\u001b[0m\u001b[0;34m)\u001b[0m\u001b[0;34m\u001b[0m\u001b[0;34m\u001b[0m\u001b[0m\n",
            "\u001b[0;31mKeyboardInterrupt\u001b[0m: Interrupted by user"
          ]
        }
      ],
      "source": [
        "# 오류 예외처리\n",
        "while True:\n",
        "    try:\n",
        "        x = int(input('Please enter a number: '))\n",
        "        break\n",
        "\n",
        "    except ValueError:\n",
        "        print('Oops! That was no valid number. Try again...')\n",
        "\n",
        "print('-----')"
      ]
    },
    {
      "cell_type": "markdown",
      "metadata": {
        "id": "6Ef7gKpD8GGP"
      },
      "source": [
        "### [PC에서만 실행] 수업에 사용할 라이브러리 설치하기\n",
        "- PC 윈도우 명령프롬프트에서 실행한다. 코랩에서는 실행 안함\n",
        "- PC에서는 명령어 맨 앞 '!'를 제거하고 실행한다."
      ]
    },
    {
      "cell_type": "code",
      "source": [
        "!python -m pip install --upgrade pip"
      ],
      "metadata": {
        "id": "ViukrDAGDuPc"
      },
      "execution_count": null,
      "outputs": []
    },
    {
      "cell_type": "code",
      "execution_count": null,
      "metadata": {
        "id": "WnEwfA_x8GGQ"
      },
      "outputs": [],
      "source": [
        "!pip install numpy"
      ]
    },
    {
      "cell_type": "code",
      "execution_count": null,
      "metadata": {
        "id": "ZqJSQDet8GGQ"
      },
      "outputs": [],
      "source": [
        "!pip install pandas"
      ]
    },
    {
      "cell_type": "code",
      "execution_count": null,
      "metadata": {
        "id": "JtYjHD2D8GGQ"
      },
      "outputs": [],
      "source": [
        "!pip install matplotlib"
      ]
    },
    {
      "cell_type": "code",
      "execution_count": null,
      "metadata": {
        "id": "BRSzhspAC6J8"
      },
      "outputs": [],
      "source": [
        "!pip install seaborn"
      ]
    },
    {
      "cell_type": "code",
      "execution_count": null,
      "metadata": {
        "id": "8spH-HIwC6Sz"
      },
      "outputs": [],
      "source": [
        "!pip install ploty"
      ]
    },
    {
      "cell_type": "markdown",
      "metadata": {
        "id": "wl2PYxtB8GGR"
      },
      "source": [
        "----------"
      ]
    },
    {
      "cell_type": "markdown",
      "metadata": {
        "id": "T20_kqnwDKe2"
      },
      "source": [
        "## 2.파이썬 자료형과 연산자"
      ]
    },
    {
      "cell_type": "markdown",
      "source": [
        "### **[자료형]**"
      ],
      "metadata": {
        "id": "rxo68HToTgT0"
      }
    },
    {
      "cell_type": "markdown",
      "metadata": {
        "id": "GPQdotYg8GGR"
      },
      "source": [
        "### 파이썬 자료형 확인"
      ]
    },
    {
      "cell_type": "code",
      "execution_count": null,
      "metadata": {
        "id": "re9ioSIM8GGR"
      },
      "outputs": [],
      "source": [
        "d1 = 123\n",
        "d2 = '123'\n",
        "d3 = [123]\n",
        "d4 = (123,)\n",
        "d5 = {'key':123}\n",
        "d6 = {123}\n",
        "d7 = True\n",
        "\n",
        "print(f'{d1}의 자료형: {type(d1)}')\n",
        "print(f'{d2}의 자료형: {type(d2)}')\n",
        "print(f'{d3}의 자료형: {type(d3)}')\n",
        "print(f'{d4}의 자료형: {type(d4)}')\n",
        "print(f'{d5}의 자료형: {type(d5)}')\n",
        "print(f'{d6}의 자료형: {type(d6)}')\n",
        "print(f'{d7}의 자료형: {type(d7)}')"
      ]
    },
    {
      "cell_type": "markdown",
      "source": [
        "### [실습문제] 반복문을 이용하여 자료형 출력하기\n",
        "위 자료형을 아래 미션에 맞게 출력해 보세요."
      ],
      "metadata": {
        "id": "H7bSljnRIERc"
      }
    },
    {
      "cell_type": "code",
      "execution_count": null,
      "metadata": {
        "id": "gbzIvlUi8GGR",
        "scrolled": true,
        "colab": {
          "base_uri": "https://localhost:8080/"
        },
        "outputId": "27d1e55a-25cc-4e5d-fb58-761b90da24e7"
      },
      "outputs": [
        {
          "output_type": "stream",
          "name": "stdout",
          "text": [
            "<class 'list'>\n",
            "123 <class 'int'>\n",
            "123 <class 'str'>\n",
            "[123] <class 'list'>\n",
            "(123,) <class 'tuple'>\n",
            "{'key': 123} <class 'dict'>\n",
            "{123} <class 'set'>\n",
            "True <class 'bool'>\n"
          ]
        }
      ],
      "source": [
        "# [미션] 리스트와 반복문을 이용하여 간단하게 나타내기\n",
        "datas = [123,'123',[123],(123,),{'key':123},{123},True]\n",
        "print(type(datas))\n",
        "\n",
        "for data in datas:\n",
        "    print(data, type(data))\n"
      ]
    },
    {
      "cell_type": "code",
      "source": [
        "# [미션] 리스트와 반복문을 이용하여 간단하게 나타내기\n",
        "datas = [123,'123',[123],(123,),{'key':123},{123},True]\n",
        "print(type(datas))\n",
        "\n",
        "for data in datas:\n",
        "  print(f'{data}의 자료형: {type(data)}')\n",
        "\n",
        "\n"
      ],
      "metadata": {
        "colab": {
          "base_uri": "https://localhost:8080/"
        },
        "id": "ibsDlD-b9Q4d",
        "outputId": "92e52450-2b3d-4900-d830-e49620861901"
      },
      "execution_count": null,
      "outputs": [
        {
          "output_type": "stream",
          "name": "stdout",
          "text": [
            "<class 'list'>\n",
            "123의 자료형: <class 'int'>\n",
            "123의 자료형: <class 'str'>\n",
            "[123]의 자료형: <class 'list'>\n",
            "(123,)의 자료형: <class 'tuple'>\n",
            "{'key': 123}의 자료형: <class 'dict'>\n",
            "{123}의 자료형: <class 'set'>\n",
            "True의 자료형: <class 'bool'>\n"
          ]
        }
      ]
    },
    {
      "cell_type": "code",
      "source": [
        "if isinstance(123, int):\n",
        "  print('123은 정수입니다.')\n",
        "else:\n",
        "  print('123은 정수가 아닙니다.')"
      ],
      "metadata": {
        "colab": {
          "base_uri": "https://localhost:8080/"
        },
        "id": "B2hoJful-Adh",
        "outputId": "e585ff02-ba5c-412f-8352-104a7de3704b"
      },
      "execution_count": null,
      "outputs": [
        {
          "output_type": "stream",
          "name": "stdout",
          "text": [
            "123은 정수입니다.\n"
          ]
        }
      ]
    },
    {
      "cell_type": "code",
      "source": [
        "if isinstance(123, str):\n",
        "  print('123은 정수입니다.')\n",
        "else:\n",
        "  print('123은 정수가 아닙니다.')"
      ],
      "metadata": {
        "colab": {
          "base_uri": "https://localhost:8080/"
        },
        "id": "22R7fOd7-PtD",
        "outputId": "278c3aea-b011-40ac-b94d-d731c81651e2"
      },
      "execution_count": null,
      "outputs": [
        {
          "output_type": "stream",
          "name": "stdout",
          "text": [
            "123은 정수가 아닙니다.\n"
          ]
        }
      ]
    },
    {
      "cell_type": "code",
      "source": [
        "# [미션] isinstance()함수를 이용하여 데이터 타입 확인\n",
        "def get_datatype(data):\n",
        "    instance= {int:'정수', float:'실수', str:'문자열', bool:'불린',\n",
        "           list:'리스트', tuple:'튜플', dict:'딕셔너리', set:'집합' }\n",
        "    for key, value in instance.items():\n",
        "        if isinstance(data, key):\n",
        "            print(f'{data}는 {value} 형입니다.')\n",
        "\n",
        "for data in datas:\n",
        "    get_datatype(data)"
      ],
      "metadata": {
        "id": "PMDfoepfF7K4"
      },
      "execution_count": null,
      "outputs": []
    },
    {
      "cell_type": "markdown",
      "source": [
        "### [표준입출력]"
      ],
      "metadata": {
        "id": "Qv7p8JOYJdMf"
      }
    },
    {
      "cell_type": "markdown",
      "metadata": {
        "id": "EDFiaZyv8GGR"
      },
      "source": [
        "### 실습문제\n",
        "두 수를 입력 받아 덧셈, 뺄셈, 곱셈, 몫, 나머지를 출력하는 프로그램을 작성하세요\n"
      ]
    },
    {
      "cell_type": "code",
      "execution_count": null,
      "metadata": {
        "id": "a9sG7Q738GGS",
        "scrolled": true
      },
      "outputs": [],
      "source": [
        "num1 = input('첫번째 숫자: ')\n",
        "num2 = input('두번째 숫자: ')\n",
        "\n",
        "\n"
      ]
    },
    {
      "cell_type": "code",
      "source": [
        "num1 = float(input('첫번째 숫자: '))\n",
        "num2 = float(input('두번째 숫자: '))\n",
        "\n",
        "# 연산 결과 출력\n",
        "print(f'덧셈: {num1 + num2}')\n",
        "print(f'뺄셈: {num1 - num2}')\n",
        "print(f'곱셈: {num1 * num2}')\n",
        "print(f'몫: {num1 // num2}')  # 정수 몫\n",
        "print(f'나머지: {num1 % num2}')"
      ],
      "metadata": {
        "colab": {
          "base_uri": "https://localhost:8080/"
        },
        "id": "ncwYwBNiAMzZ",
        "outputId": "49df03be-460a-49c5-9b78-f638de2f1f8b"
      },
      "execution_count": null,
      "outputs": [
        {
          "output_type": "stream",
          "name": "stdout",
          "text": [
            "첫번째 숫자: 10\n",
            "두번째 숫자: 5\n",
            "덧셈: 15.0\n",
            "뺄셈: 5.0\n",
            "곱셈: 50.0\n",
            "몫: 2.0\n",
            "나머지: 0.0\n"
          ]
        }
      ]
    },
    {
      "cell_type": "code",
      "source": [
        "# 두 수 입력받기\n",
        "num1 = float(input('첫번째 숫자: '))\n",
        "num2 = float(input('두번째 숫자: '))\n",
        "\n",
        "# 연산 결과 출력\n",
        "print(f'덧셈: {num1} + {num2} = {num1 + num2}')\n",
        "print(f'뺄셈: {num1} - {num2} = {num1 - num2}')\n",
        "print(f'곱셈: {num1} * {num2} = {num1 * num2}')\n",
        "print(f'몫: {num1} // {num2} = {num1 // num2}')  # 정수 몫\n",
        "print(f'나머지: {num1} % {num2} = {num1 % num2}')"
      ],
      "metadata": {
        "colab": {
          "base_uri": "https://localhost:8080/"
        },
        "id": "ZX7roG_AA82Z",
        "outputId": "99a5bc5c-9b65-4799-a1b5-954f457ee937"
      },
      "execution_count": null,
      "outputs": [
        {
          "output_type": "stream",
          "name": "stdout",
          "text": [
            "첫번째 숫자: 10\n",
            "두번째 숫자: 6\n",
            "덧셈: 10.0 + 6.0 = 16.0\n",
            "뺄셈: 10.0 - 6.0 = 4.0\n",
            "곱셈: 10.0 * 6.0 = 60.0\n",
            "몫: 10.0 // 6.0 = 1.0\n",
            "나머지: 10.0 % 6.0 = 4.0\n"
          ]
        }
      ]
    },
    {
      "cell_type": "code",
      "source": [
        "# 두 수 입력받기\n",
        "num1 = int(input('첫번째 숫자: '))\n",
        "num2 = int(input('두번째 숫자: '))\n",
        "\n",
        "# 연산 결과 출력\n",
        "print(f'덧셈: {num1} + {num2} = {num1 + num2}')\n",
        "print(f'뺄셈: {num1} - {num2} = {num1 - num2}')\n",
        "print(f'곱셈: {num1} * {num2} = {num1 * num2}')\n",
        "print(f'나눗셈: {num1} / {num2} = {num1 / num2}')\n",
        "print(f'몫: {num1} // {num2} = {num1 // num2}')  # 정수 몫\n",
        "print(f'나머지: {num1} % {num2} = {num1 % num2}')"
      ],
      "metadata": {
        "colab": {
          "base_uri": "https://localhost:8080/"
        },
        "id": "dhRk2pHfBQUr",
        "outputId": "f5c824e1-3b2e-4e9f-b2bc-05bb47dc8c49"
      },
      "execution_count": null,
      "outputs": [
        {
          "output_type": "stream",
          "name": "stdout",
          "text": [
            "첫번째 숫자: 30\n",
            "두번째 숫자: 7\n",
            "덧셈: 30 + 7 = 37\n",
            "뺄셈: 30 - 7 = 23\n",
            "곱셈: 30 * 7 = 210\n",
            "나눗셈: 30 / 7 = 4.285714285714286\n",
            "몫: 30 // 7 = 4\n",
            "나머지: 30 % 7 = 2\n"
          ]
        }
      ]
    },
    {
      "cell_type": "markdown",
      "metadata": {
        "id": "LqAbyRHs8GGS"
      },
      "source": [
        "### 실습문제: 시간 계산 프로그램\n",
        "속력과 거리를 입력 받아 시간을 계산하여 출력하는 프로그램을 만드세요!\n",
        "- 시간 = 거리 / 속력\n",
        "\n"
      ]
    },
    {
      "cell_type": "code",
      "execution_count": null,
      "metadata": {
        "id": "YwepfYt98GGS"
      },
      "outputs": [],
      "source": [
        "velocity = input('속력를 입력해 주세요(km/h) : ')\n",
        "distance = input('거리를 입력해 주세요(km) : ')\n",
        "\n"
      ]
    },
    {
      "cell_type": "code",
      "source": [
        "velocity = float(input('속력을 입력해 주세요(km/h) : '))\n",
        "distance = float(input('거리를 입력해 주세요(km) : '))\n",
        "\n",
        "# 시간 계산 (시간 = 거리 / 속력)\n",
        "time = distance / velocity\n",
        "\n",
        "# 시간 출력\n",
        "print(f'시간: {distance} km / {velocity} km/h = {time} 시간')"
      ],
      "metadata": {
        "colab": {
          "base_uri": "https://localhost:8080/"
        },
        "id": "jqmCUOqmBrUF",
        "outputId": "32e499cc-ae8b-4a56-bc56-739b818bcea3"
      },
      "execution_count": null,
      "outputs": [
        {
          "output_type": "stream",
          "name": "stdout",
          "text": [
            "속력을 입력해 주세요(km/h) : 30\n",
            "거리를 입력해 주세요(km) : 20\n",
            "시간: 20.0 km / 30.0 km/h = 0.6666666666666666 시간\n"
          ]
        }
      ]
    },
    {
      "cell_type": "markdown",
      "metadata": {
        "id": "sHIxGA0xLj0C"
      },
      "source": [
        "- eval()함수 사용하여 문자열을 계산할 수 있다"
      ]
    },
    {
      "cell_type": "code",
      "execution_count": null,
      "metadata": {
        "id": "gvVxuLjX8GGS"
      },
      "outputs": [],
      "source": [
        "# eval()함수 사용\n",
        "time = eval(f'{distance} / {velocity}')\n",
        "print(time)"
      ]
    },
    {
      "cell_type": "markdown",
      "metadata": {
        "id": "tECEWKan8GGS"
      },
      "source": [
        "### 실습문제 : 정수 합 구하기\n",
        "아래와 같이 정수 n을 입력 받아, a + aa + aaa의 결과 값을 구하는 프로그램을 작성하세요"
      ]
    },
    {
      "cell_type": "code",
      "execution_count": null,
      "metadata": {
        "id": "a04GPnn98GGS",
        "scrolled": true,
        "colab": {
          "base_uri": "https://localhost:8080/"
        },
        "outputId": "54ddf03c-d8f0-4f7b-8c7b-cbdb17232a5f"
      },
      "outputs": [
        {
          "output_type": "stream",
          "name": "stdout",
          "text": [
            "정수를 입력하세요: 3\n",
            "3 + 33 + 333 = 369\n"
          ]
        }
      ],
      "source": [
        "a = input('정수를 입력하세요: ')\n",
        "\n",
        "# a + aa + aaa 계산\n",
        "result = int(a) + int(a*2) + int(a*3)\n",
        "\n",
        "# 결과 출력\n",
        "print(f'{a} + {a}{a} + {a}{a}{a} = {result}')\n",
        "\n",
        "\n"
      ]
    },
    {
      "cell_type": "code",
      "source": [
        "a = input('숫자를 입력하세요: ')\n",
        "k = f'{a}+{a+a}+{a+a+a}'\n",
        "print(f'{k} = {eval(k)}')\n"
      ],
      "metadata": {
        "colab": {
          "base_uri": "https://localhost:8080/"
        },
        "id": "cBSOlnAdUBno",
        "outputId": "0c9a56f0-ec0e-482b-eb82-7b272bb4cf46"
      },
      "execution_count": null,
      "outputs": [
        {
          "output_type": "stream",
          "name": "stdout",
          "text": [
            "숫자를 입력하세요: 8\n",
            "8+88+888 = 984\n"
          ]
        }
      ]
    },
    {
      "cell_type": "markdown",
      "source": [
        "### [문자와 문자열]"
      ],
      "metadata": {
        "id": "SHkqIiXbJXrR"
      }
    },
    {
      "cell_type": "markdown",
      "source": [
        "### 실습문제 : 문자열 거꾸로 출력하기"
      ],
      "metadata": {
        "id": "kc4LrgAHJw4f"
      }
    },
    {
      "cell_type": "code",
      "source": [
        "s = input('문자열을 입력: ')\n",
        "\n",
        "# 문자열 거꾸로 출력\n",
        "print(s[::-1])\n"
      ],
      "metadata": {
        "id": "_QpSs-GCJvyH",
        "colab": {
          "base_uri": "https://localhost:8080/"
        },
        "outputId": "efbb5e1e-e91d-4fc3-e789-688cfa68f0c6"
      },
      "execution_count": null,
      "outputs": [
        {
          "output_type": "stream",
          "name": "stdout",
          "text": [
            "문자열을 입력: 안녕하세요\n",
            "요세하녕안\n"
          ]
        }
      ]
    },
    {
      "cell_type": "markdown",
      "source": [
        "### 실습문제: 간단 챗봇 만들기\n"
      ],
      "metadata": {
        "id": "t1KHQyvnJrj3"
      }
    },
    {
      "cell_type": "code",
      "source": [
        "# 간단한 챗봇 만들기\n",
        "print('안녕하세요~')\n",
        "name = input('이름이 뭐예요? : ')\n",
        "print(f'만나서 반갑습니다.{name}님')\n",
        "print(f'{name}님 이름의 길이는 다음과 같습니다. : {len(name)} ')\n",
        "\n",
        "age = int(input('f{name}님의 나이가 어떻게 되세요? : '))\n",
        "print(f'{name}님은 내년에 {age+1}살이 됩니다.')\n",
        "\n",
        "hobby = input(f'{name}님의 취미가 무엇인가요? : ')\n",
        "print(f'네 저도 {hobby} 좋아합니다.')\n",
        "\n",
        "\n",
        "\n",
        "\n",
        "\n"
      ],
      "metadata": {
        "id": "Fg-QYkDPJr14",
        "colab": {
          "base_uri": "https://localhost:8080/"
        },
        "outputId": "0f5e5a5a-1bc8-45ad-f5f5-71adb5264b5e"
      },
      "execution_count": null,
      "outputs": [
        {
          "output_type": "stream",
          "name": "stdout",
          "text": [
            "안녕하세요~\n",
            "이름이 뭐예요? : 김혜진\n",
            "만나서 반갑습니다.김혜진님\n",
            "김혜진님 이름의 길이는 다음과 같습니다. : 3 \n",
            "f{name}님의 나이가 어떻게 되세요? : 39\n",
            "김혜진님은 내년에 40살이 됩니다.\n",
            "김혜진님의 취미가 무엇인가요? : 프랑스어\n",
            "네 저도 프랑스어 좋아합니다.\n"
          ]
        }
      ]
    },
    {
      "cell_type": "markdown",
      "metadata": {
        "id": "Hb6l5EjLQB2m"
      },
      "source": [
        "### 실습문제 :  구글TTS(gTTS) 사용하여 음성 출력하기\n",
        "TTS : Text to Speech"
      ]
    },
    {
      "cell_type": "markdown",
      "source": [],
      "metadata": {
        "id": "MKZzJ2iCMu9b"
      }
    },
    {
      "cell_type": "code",
      "execution_count": null,
      "metadata": {
        "id": "-eY--f6MPwTf",
        "colab": {
          "base_uri": "https://localhost:8080/"
        },
        "outputId": "96125032-55e2-4f7b-b184-0a8f83d42d80"
      },
      "outputs": [
        {
          "output_type": "stream",
          "name": "stdout",
          "text": [
            "Collecting gTTS\n",
            "  Downloading gTTS-2.5.3-py3-none-any.whl.metadata (4.1 kB)\n",
            "Requirement already satisfied: requests<3,>=2.27 in /usr/local/lib/python3.10/dist-packages (from gTTS) (2.32.3)\n",
            "Requirement already satisfied: click<8.2,>=7.1 in /usr/local/lib/python3.10/dist-packages (from gTTS) (8.1.7)\n",
            "Requirement already satisfied: charset-normalizer<4,>=2 in /usr/local/lib/python3.10/dist-packages (from requests<3,>=2.27->gTTS) (3.3.2)\n",
            "Requirement already satisfied: idna<4,>=2.5 in /usr/local/lib/python3.10/dist-packages (from requests<3,>=2.27->gTTS) (3.10)\n",
            "Requirement already satisfied: urllib3<3,>=1.21.1 in /usr/local/lib/python3.10/dist-packages (from requests<3,>=2.27->gTTS) (2.2.3)\n",
            "Requirement already satisfied: certifi>=2017.4.17 in /usr/local/lib/python3.10/dist-packages (from requests<3,>=2.27->gTTS) (2024.8.30)\n",
            "Downloading gTTS-2.5.3-py3-none-any.whl (29 kB)\n",
            "Installing collected packages: gTTS\n",
            "Successfully installed gTTS-2.5.3\n"
          ]
        }
      ],
      "source": [
        "# 구글 tts 프로그램\n",
        "!pip install gTTS"
      ]
    },
    {
      "cell_type": "code",
      "execution_count": null,
      "metadata": {
        "id": "O_xqpl0pPx6k",
        "colab": {
          "base_uri": "https://localhost:8080/",
          "height": 74
        },
        "outputId": "5a2d00c7-1cb1-40ac-a513-923b96c90c97"
      },
      "outputs": [
        {
          "output_type": "display_data",
          "data": {
            "text/plain": [
              "<IPython.lib.display.Audio object>"
            ],
            "text/html": [
              "\n",
              "                <audio  controls=\"controls\" autoplay=\"autoplay\">\n",
              "                    <source src=\"data:audio/x-wav;base64,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\" type=\"audio/x-wav\" />\n",
              "                    Your browser does not support the audio element.\n",
              "                </audio>\n",
              "              "
            ]
          },
          "metadata": {}
        }
      ],
      "source": [
        "# 영어 출력\n",
        "from gtts import gTTS\n",
        "from IPython.display import Audio\n",
        "\n",
        "eng_wav = gTTS('Hello World!')\n",
        "eng_wav.save('eng.wav')\n",
        "\n",
        "display(Audio('eng.wav', autoplay=True))"
      ]
    },
    {
      "cell_type": "code",
      "execution_count": null,
      "metadata": {
        "id": "inyZATWlP3Cp",
        "colab": {
          "base_uri": "https://localhost:8080/",
          "height": 74
        },
        "outputId": "6680a71f-b789-42fd-dc2b-55a6ffb22d05"
      },
      "outputs": [
        {
          "output_type": "display_data",
          "data": {
            "text/plain": [
              "<IPython.lib.display.Audio object>"
            ],
            "text/html": [
              "\n",
              "                <audio  controls=\"controls\" autoplay=\"autoplay\">\n",
              "                    <source src=\"data:audio/x-wav;base64,//OExAAAAAAAAAAAAAAAAAAAAAAAAAAAAAAAAAAAAAAAAAAAAAAAAAAAAAAAAAAAAAAAAAAAAAAAAAAAAAAAAAAAAAAAAAAAAAAAAAAAAAAAAAAAAAAAAAAAAAAAAAAAAAAAAAAAAAAAAAAAAAAAAAAAAAAAAAAAAAAAAAAAAAAAAAAAAAAAAAAAAAAAAAAAAAAAAAAAAAAAAAAAAAAAAAAAAAAAAAAAAAAAAAAAAAAAAAAAAAAAAAAAAAAAAAAA//OExAAnCrIUAGPMuQodHMR3ljIlk8kFgrn8sAgaxs5+GCCrQ5OlzsxqBkgPHk0NcHRCZIKvj5jwInhv9w3+83pSA8pAiQGR+r47G/s8HTYECCAIEGAiDk07Jk7JkzCBAhBBCELJ693euQiIIY0Z/4fff/jxHj/3v/e2iGiPCGuTTu7uyCERERkJpw8PDwDAQAAY8PeH+AcABOZcPfA////4I/w/8Hf9hCpboJaefndZvueZmk5a9t3Yg5/IpPNY//OExBYn+ro8AVh4AOWYxDEAOSwx1nslDO5Ih99F8MQv5QCYbFreQ2CN5IVMza800eJXG4WNb22Q5k5BzDj6zbE/YKN896y40p2fse9PM/N4Ssix4d53jIxryEN7a56zfN8RMUh2m3Dxr0v/r//P/18/7+731e+m/cD5val/q98Zhx8x+kTAmYDf90zyDAYtRPm2Y39aFwqlTjMLlOgoHPJ0Yi1HIMmPNCOOQCK2yiYQHMlDM6iNurO4ySbcFCs3//OExCkwanKAAZrYADPjODkxcgA48bgiGYo6F7iNfdc0NABUCJDwQHGuIJtaaKAwYTYbl9Sw3F0JY80Co4o5tfTkeO93l7PTkwYytkbKHbYa1pSxCQqVk+G+59+3bkMqdJuMPP809nDK12sXYI8W8+/3//5LDEar0ms/9/WXy2ailTf///////n3v////Mq1XWX97+/7hqrnX/yVLvDjv////QBAIhYCZ96BIhjFwBUGPBiRsqgQgiYsaKgxouZM//OExBoukdaUAZrQALg4WYNOZKOOjDN1gIlM+hNOHHuRwRYJGmIGjRIxJ4xQAz4MxYcOGDI43JIStIoGSMm6hmZKCMDH2Jt64bftwn3AfR+VIpgvQ20iiLX3vqsva+xNw24uM0OH56IK3LxpHqisNxuVsPh+dhjB2XAiEIrQK+rcWvdazTRuN0Ve/h//qlp89b7/xq1rtN38qf8Ms4sIX/+j+wN+z/wwhn+JQkPqAq4SiKTnGAYRAgNAoCPRmAII//OExBIrucqgAZnIABdQIKATxGQMIj8wgOGmDgVApghJCIR44IECg6D7Oy4xhLgqIBHIEBEGZL5RIsI+iXoObdN7Wkww97J2UNadVl6w790UXf9pT1sMexmzsvG+yxFgmWO+6jkQAkO6bzymKw0yJ630swzFmuPE2krkzuSyYldyBnYpqGzzuX/8v1fwx///Cdrh3p1BenSlfWN9ztlaGN2D0Cpp/////9F4mbHdCsmHZylhVADQ5gYGOogCMG3Q//OExBYmCaaUAdrAALNlZJYExQdE0Aho3EFLpl4nddx74Kjr/NtBClUWQyGhFzRbqVbyNDXbBj+vlKHa4/0LoH+qQ1SX5y1VhqnlFPB7kvtSO1L7k9Yma3alN2NT0ejN1/Z1rMCtlkMTkVmHtxK/cnsLOW7Gdgr/4a9QRe8kDMiaYRd+mp54FkqWyGxciZUqh0ZBJ8CWFrDCaoPZIAxWKDUojMSDMxiVDJBEMOhYwuADCQBTwL8ISgSEB4xnsEHW//OExDAxkxpoAOYWvA1YV/v9HWntLQEM6WHRxf0GiAQhUJdICmMqlTOGXRVhZ06U5RSp0pPGW1qNKu3IHjcog96WOQEy1d7dXIf6HuRGlty2duSq1nKYy4kjpJAIQOnmoHQTjw2mrFjyR5iZqWtUjZbL6fc8/f8dm8MtE4eNHGpaPSTUnS6Ww79zWsdtp/8X1P///7d0Ok7V325x5p14a//TeupPMwoDw5bOw0GCMwhPwzwZ8w5CYxIQcwGBYwIA//OExBwvIoJcAO4WuMMLRTEgpWuFgJi4NBZJ9ogAUVlXMBWIOPUHHYmOGbGqqLdVOjasRzVBWHpvIT5ta6zI4uWnaS976NGoYGaHLH+icFzrrQLBD92oW0hfLJn4cKdzMoSSbabWFPSsMp/rNdCTmHmn4e6FknnKOSsruZvdvZ9wtbUWATDuH44PKqB6YvpvDqub2bOH6kgiUR+5CbUgKRpu/qUPPH2T3Xv97CC6AIHGCAjmAm4mOY8mGI5GhM8G//OExBIn8opkAO4GuGcFAAEMDNSKAuCAnMRAIa5XQYZYFQSAQFuABSLv9RVHBwUwFRF9ULGTKZMHispfmC2dN60lgi12hNPZIxF/3cisUd/cWhi1GpytZkc3PRiOQ26kveyKihJmzeslxZykRm0eBaFFUx0qXpsvPVtGKffOTBkooWLLUj/9Ps5mblq4u3V/6f/R9SDF5T/fuj54Jowgg01lBcwHA+LGtwgBQADBUgjAoHImMgArfJ2fA4EGGCoA//OExCUlkoJwAO4KuAKg5EGILw23VBxpCaSpIAaUwOH4jKKkehygcJ44blLlM4isnlmNLL87VJeypKmNfedzGN0tmN5IOqHFYXRSFezOzo6I5qCNXks79G6SedPqA5AYQZkQQRVoTZZ7M8kxUHCBx7R/on//2ibMe3oefV1aqnJQFGFaJkDoFgFVIyaLKCMVABlPMjA1XDAQtSKOcHAEueANDApTSWNHK00lpfSv39bs3s8FOMjiNkeG1arlRGY2//OExEEoQraEANvWuHvOwUYS5zwlBIdQ/D3VhppHySAWWkUAsvIAQDh2iDPFihMhMnvh79lfP9/PfUTH9y2Jj7r5V+Orrnf2yImJz/XDdO4p0xV9Plxw/AfcIFiAuKicoFv+3scomAtHKVcf6qJ5wcCk/yRDCmQhiFBGOBYlNjDYHVWBIDCrIgAV/zkGHhKuR+OF1JH6lc7vVXHfKxWLkmBcFaDmARENDVIaq4KGo9tZFHFUqGODCfxwHcKWXMbw//OExFMlSr6QANvauWEbT8S0LwUioNkew+lEJcewWoIMLWPgwYlBYSI9jhkbvV/1Kf7///Z/17LupSr0GvUldBVrr6kk1In1QVPTmFqhMtWmhkRgxybWpJ5R4SFnBnJIKhc+iLtCAiXpSSMMI1LUJefc2CksuF6VvVquVID2F2h43AHdHh3AY0YT0hItFU8OZAdTELnhGShdSAnG1nKdCdOY8kYnjSIo9hhhgxzjChUQziegtobQ2nhNTAul0ehd//OExHAmet6UANvauTVE3Uk3/u73///6kEf2oHEDBbnDRZgd0FqW7rUhdmsumhqToKQnVUmaIMZpjJpUo1GuQGIsu339NAM6S+Mjw8aWI+VA586qMiQdLfRgqukYYsfaQAEAJcTLOoTJS4S7lY7kFrtgfkBQFjchuWVqZm9LElMmzSVcrHqKzHYpepYxgVFzSSCE1EByBQ1DyBKUEsbQSCYomaMSQZ3X///P88/v/+f/7r//+b2OLbNzcsJZefYe//OExIkm4raUAN4WuXb3219765vvYeadVGpNhVDlH6rlaqaboyC2IDMMjPfY0tWYp4hJgg5poLEBqmpAqVQ9+3cEklNyrREITgE0TGAKIZ5GXt2l8ttxiX6ydbGadG9jKXM5XhmX56jsumUbWK2bLI4tjAMsWXSCbmQ7p8yHuYOICClk4khPziyRHgmo+hs9f/Ratv17f6vUutkJklHqeRKySRQLqLGIBEQMgrclITGw0DQsPGg2ZNXXf////XRV//OExKAnynaMAN5auK0lSqNkY5dUIBhPDpCniSBEzUvVMZsRipEef6YaHRf1h4EIketGcxyk3RtmpapihcZpOKirVr+xoFOVmjS7LbUavWw5/WZfc+PNnq4Nau7Z69tv2oQfjBreHzg5rEkUlIixYpiWgZxPPCPW5iT8xPaq17f/63Zbf/+tkkjdAvmLFPH0uoB8qsaZa/gH8FTCBCAWfp0MNM///opU1NEgJOD0kWGrnGCgkLVmSJyGBloUCOPg//OExLMmumJ4AOaauEFQGU7uA0Lhi7QOfIwbkwKZSYIEGy6BEidBo0VDwEpQlzIHbQFvxNvu2fcoZxX4+72Vq7K4atRhgEH8oHVzwbHJrr/rWl7D1TuqxMJV1Fw/JMqL4w4fER7jDlw+5cHsXHMUEGRXb/v+vUyDf/+zoGpOKCiwyMDBJlvoGsXPL/0vt//6Soxdehuo6Dm7VCwrEAMbiTirGOAxkQqpoyow5mKwd+hkXMWHEqkMBMxg9YYoM4Ne//OExMsnanp4AOaauGABz45B6SFwMSVy2eCVYKemZpR0jSIdppY1yUblMnwgBycaR25Zdlb3VLT67ctPdd0spguSYWAXBUF4/C0PBDg6KoFgGwCw0EOGZMLAgFNPJ0tZN///MRf//zGOORx4OIeXVyc0UCJOY9vKJx5BUWR/BhOM7SkwgBBCDzA7fAAHVMKEooYaI4yBzPo7QCDITMnsUy4GVnGSiCz9s4qFOCjEgAyHM7XPLSNKAYEduCJfTGkT//OExOAmsmqIAN5UuGNWRo3mSNOXA7WER5anODg7NXoXQklDaq4YCj651/ONBaabAmRluwqAh8ueEFUwpa/qKTvpzrGtuA8Mqd9lbPHPVvQ4Ck3FnCTClg2xvFWDnK1Dj8WXK8PF4l9Z3/jOYcKDDtNSmG9/JF9NU+N7gQKUw/sweykiPUozQZ3aMRbcrHVvEzSHWkTc9NZxEvneP9Xvq+r0x8X9MazS+YmfeQ5n/ytaqI1CTBRc/scKB5hhoiEw//OExPg6gyJ4AOaevOjZgSUXSiYyShystAClo0oJWofnGoik3YIQQulYFfBwrV0CJklJXKGHMYbIwkEKJkyrlGEEpc66Pb1SpmCdT7QQpY40XVvnZ1ucNTz0LNlb+I3pEq3KgWs8y71ZCOxOsTEjXKOr1SoTkRSHKo8W5cHurX5aKpzT8LFq/f///x8XzBtrLzMsL6ex4b+964p67tr+Dq7nEs1vIcfscDESBF1t/Sakf7h5tiJXc38s1cwueDJd//OExMExgr6IAN5euJeKuZcRqvQDd5joTUQoUMiZoiz5kyKcphx4jQJBMoMItCDsOiIOyWhUWV9Pt3WblTubKplTaGYCR4OLk1EEA0Z+Vb3VhhwIHjVmT0tqTRq32RS+af2Qyld0i0saen5DTWJ6U6v1dY1s/q3uzMtxrS65V5hb1PWLs4rc3eif/HzWWu1xkUtvQ00sY1wI1KJnEMExwjh2pRg+xpY4VIYGwfjibGqKI5YuPGu4+7XpKMTFw/cw//OExK40rCqMANYQ3IQPC7D+3tER3e/l++Ukeek3T5d3u73xSP8fMX/xXp83X+kEVLqlWCNJnOgnBQgwoJS5bICCpjLAo8o+wdEqeAX9hqCXyyO0JbmtQJnzkRR1AUAoAEvEYdn2fu9RdjM4urXYXJae2mO02LWr5v3nb/t7ZF9uraVyyersdGDUWG+vZ3SJBtdcOmp652iHQ1o8/LubBGSJunGikJVVFBGcSwKVH0psnB65V7a0EkLAuTGQxYwo//OExI5GrDqIANMe3JUpwuB4qIfCME/AIwg4wAbgpBzifi+TZiFGOsWQC4HIsRxDyxqQQgBEPk+QM4/wD8ygfZYwj5Py/BGChAVFAZot4xyUCSKhEiUjBAyblvOckQZCefl6EYOsIegy33L2oBP0gp2BXF4Q5WomdC2yArItH6kMhs7+67V6vcGU62tdMLOz6hRFfHiKU/0P3SgMHhWUcyN/7zTfH/s0IJf//7B/9VZPQjFgYEPW4+q+0CuPeb39//OExCYwXDqkAChe3CFd7XERxhNky04qeHAYXOWPZuPCCqV1MoFIuFI9cmxxN9XrTBVlf7JYpkofhdTcUhyDcOUluy3DlN5bIKe6bJ4f6QSEhuQzPN8tyXLqTUmQzEKOSGmT4P455DnhsClSSOZVWtIFVjEYE0eRpMJeUWjzQi9vOZdQEioXqViQ7PY6nZHO1oT+XDbu2YbC+xmfcVj8SSWFFzJS1rP4qsa+U38E79T/mMjmXJf////+hJDKpgNl//OExBcmK96wAAhY3d87tpney9c34920HrLWP3YS3CuP1mHqmx5GsWsRYX8es02enhkybQ8taRnSxOSVy1hgpmkIkA6+YISGTMCgTjsUnq8gLT4tnh0fnAhRKYzBKIjjRkwrHcMIB9OT9zmly56JK+3688MD3FTKelVsDx4qSe3OrY9yPeikO1iBBvrXzI3IOSkTPAsENJ2lG1RLS7rsaJYE3Q7Lr2q6Mdynun27WanIU47HdNbdaZ2aTO9k7S7l//OExDEkq7KsABiY3f7bdanrdhqDMMjJcq/4rsQLn6LqWs2xieJ68VjK1l1ySy7Wp+pXMlUyPmiNjRmALS5icLm1DPxf62cTPauryZWtq09n5LM1x6bTRs9xc899KzvM9CuXFcRuTQ3JrE1zjf/iNAlBCBuFglY0+fhnAo3iE4ZU5lCGA91JnWYusGm2cqFlb8HiGJQ8EBCE8Y7JHaOUwlDoAMWqxc99VXzW3zV6CEUMPNqLm9a9Tfm7jZzShYYD//OExFElcyKQAU9AAGBUC61UGoekmlM0lD1nlSmju6hxF1YbMStRcNDFC0qqirQLXAdHOSND0VyaZaVVVavWTREeYsBPLVB0TB0Jma5LKnb3IjGqQ9YWMfbDxIMz+TPiOxqKMAEBlsNcATayw5VQDidzjEQYFHRkguCAZTdk8+PPI9Q0z1QZgbb2aya70LyYug8u5RVFQGAqAJqBij+wOARDSBNoUGCkAhjxBds9mRwQzRWlp9WI/LKhECXGZ206//OExG5DjBaAAZvIADUMgJYexTWUCi8C3JixFOQunj0rgmLKUr4cmOzsSWCT/RcS+p8t4///t3q+X///8bnKXDut8///u+VbdPWpJN3/wtzUAvBxuTkzH/q5unnItK4VSVan3s+97/cMLlizLOTNFKcZreXa1uVw9VltWizuf3L8q9+SvpatYbv7z33P/7v///3////9Nj+Vbv9/DH9f/////4Y6z3r/uZ7qevTVbisQ7CF+TINB6co4YAihCZlO//OExBIrAmKUAdqQASU1DMzYNyQqLfl41vcZY70EV6RxaaOEidHwViHDMkyLgIMKFKRJiNheg3uMgMUBugpQWCC3IYrElDlw6IPTFbhc0HSA3lC6AXoGmJ0GRHQRcmSfLxPm5RL7FQxJhRFiqYjgUL0kykGqxzxWouMVsQ8cgd5aJ02Un/f///+v66EyTQUeLyJRRYy1aos7//7Tx3PVCZg4Ewd5gPuUwMNo2BCtxpCqQ0iUPN4nT5FggcyGQK8q//OExBklujqYANYUuWUEkT1SHUjxiVNGJdKIZqv/FajuyyDY9IHmZW6TbJUCNBfgyHX6jSxBeLOXLZq6ixm/SWeJIh+21i8Eym/F6KaJTBmQmjYbiMKxIIoRYNwUgGxEgNiJArCYFQoIEkFkkU2zf////X9lfQkMEQe738nf3znrZrOzI9YQ3/0ltICIDJlESUptbaJIgQJ9CNSArwNDmzSIVAwXAqyHNia9brpT0Gzr6T1PbuRSfjcVijjUzLoC//OExDUnkuaQANYUuYFja71moUDYlppKlsWkM6a/KHcfFkLR0qVyS1krzS6W42bdqWy0iFYqQqVMUYkAUQthQi2TgDiEBU8hEKKwUrnmI9U/////qyKpqHKacceLiEw4nmT2XznX+81Dbmscde7lj+Oe56FEtupCQW8OaFRUbM0aogCjpVgyqixmYKlkzyq0FHztJSy1MSKs/lssgZ9M6j8qMycJlAgA4iaHSTheGUEBRlQwwCpADWA3o3wwCN0X//OExEkoQuKEAVuQAcNogRaGPFKk+GMRYRSxBhyTEwNkXZ0jqLVoomyR1RVMSVJkcwixbKpMkCIEUC8bmrf3Zk0P///1LoWdSPTL9BNV6LLUy0F+r0LOqtGpJBJzUV1crrDgVdUFdR0nOYl4n0hhs04egSGbERzDeaghFKuacnHADpnY0YeCjBYBiwHTDJggIHLCbQtYDdjJBYAL+Coighkw5EgwjcQoOELYDLjMDkA4YBBwSkSYWvAJCDUYAJQw//OExFs9S8J4AZuYAEhv4pQGpA5IgQuAOVCysONHOJlApABHIcOAmiQIuTAsBIE4XDxqQ4gYnYdJACRJUiw0BtkMJAcwzPEgZlQoObTAuGLLzV1HC/VmSCZsm/7nS6gTZsfZfWXy+X5eNUPWdSL5FSKJKXResvJmKSkUkpkmerSQPmhoeNtAuFJFknpsVECcKDGiKJcV/1KdGj/N17/UhMBfnzD+FA7VNGoMirEeUxLw0hY1AEyy81YQSagsoYYI//OExBgtCtaQAZp4AGxDAqSHARg+hUccOXLQuGfoSIhpYwVghB4KY6m4uyPLYQcTUTcW8cYNgI0SlPHUVYhZcDmQ0l8SLE2iTqZYuPU32ZURH7xHp+NAgahPob6NLCklc37yrg/Z381PAzX/f/8fFqf/+ltx/////it8a1r///OJornEk//zmtvrcf///L3ea39c11e+NRbwMHXkgfHvICI+dFFs/6v1dCpm5gWBvw4BIHfIhgYSVohBx4qgTHGT//OExBYjOZKMAdrAAAaMwAc2o9HIFG06h4WytmrvtJTXbvB8AvRAxedXYFWkmDUq6HBl8oJTBmXRmXx5AM5GpHKpPTSKOQ0+kpdPN94u/9q3lLJvlPjT3s8d5XbV2m+mzlPZTnKc6vauNrlH9PuvuwCCP//xZSixY2PIEWB221f/+VRVRBFAhTuFW5vxwyPMQCgEaurHGSRUFmeiL3NMeLdGSDPECTDZC+kJL2kQ4ZOlpzHoQaGOAgCC5bAHFnTV//OExDwnGoKEANaWuIlg3Vml/St/pXAl6K3IarS3bu1YbisTjTp6feklTQIPVYz9ocbl08PhQRihKx0KEKPAtJg8wOwlNcUvTNThtJOPmz4SXlz3W53/7++nX9///////PFudxFxz56HNFH2JQqkJB8PGiUhOWRgwkMIORIPAw0ZWCgEVMkEI+awIBYoEJmEHQCVzHhxkKKChoUZw4YZ8FXoEIG7jll0BoQaQDqyLBMpm2duU7dSgf2dn8YMsyrC//OExFIn6oaAAN6UuTk9XnsZN8xVhnsRhyhZa5K5IOfJww9Ji4gBJEQNBqJwWglBRD0egsCoNRDgUx9FB4iihIpGcrJ+nv2U52////+czOXLKeWyS+ptmZGO5aYRBpwC4ChwzlANsFFVQcfMxESkHFBhx+aMYBc0NTVTFQ8LiBhIyKljgrQIRMwnCRR2zZpqRm1wKRBgYrCsclMehy7KJRJL9udxprl2dp6XGXZUv1Me1/5nyW8oPgqL9YwQgumF//OExGUmynaAAN6UuAGgkJiQ0mLCBEUBKC4JQN7CQA+C+FwM2FsbkinDg4z+Y///////aqyZWuTCcEnA5AhOGVrz9CqHk6TgZMBCIEDDpBeBTBFUaGguIG6oaT5hh+cAgGHF49imcgoFCCbICRZwvZPrNKkCSwttX4FgcAJzQE/0HwBD0Jvw1cyt5WsLV3HVvVrDKrauU+Vqplnf3XlU9KOEAL4XoixuaIsRJEF6NBLUcCuQj8IREEIbFwGR8Kop//OExHwoEop8AN6UuCcMhoPCrMehMWdv/////WtHabISYnYwqcrHlCBM4la0E93d+qqCCUDNUmTZwMgGAWFrMAg6ZwcBg2ZQ0mXgRZEALJpRoYWXGmsQCeDGojdjzGGThPweWNAXM0lFAyWiAFcTLoU9jkuxNRaNUmV7HC3ar9tUtf7WVXC3V3hawxsbpdUmdEYjuNxPxhiQHCPBEblk8eJQGkpGYw5IjzFwkzANZiLFIvkcgnyRUySK0P/////7//OExI4nooJ8AN6auFd02ZSaz86yjgBEgArkH1D6irKjAHYfRxABmETIOO1emLo4sLCAXNYZQ5DAgeaI/ixWtswlVIgUwAHOMJiqBmUKJwxQyFdJMMQ4zF2KWw8lM6UtsynCtWvfhnqas8lGON7PkxZ5OZ5Y5bpNZSwkKiKhcCAqOBwNhAJI1B+KBQGgQFgoANB6AOJQ2ALLEQHhkaiQciqaf////vt/tOZTGNIT5qjYaIwTDR4WTq01fVEIxz4N//OExKIm2n58AN7OuMwhXRpQIJMSRhoByy0Qh5n7gTEwNHTQ1ImGjCTkxkuGghhJhpxpAOC0Q2R1/EXIe6vNmtPC5bL367KIzYqV8OU1ytKd1s+3LXbd7G1zOtazq813kGxswbSSbAkkkbkVSIalhLHSQg7x9LB1ryMUDwkLWjghjhPuXum////////+fj4r65tRWydTlYzXpWAgDZkPMf7f/tUqg9JE3/QGhAxEvO3MizRixwZaEFwBEkmZCbJz//OExLknSoZ4AN6WuCIZBgaYSMg5JHgg3gLBHaJxmQ4wIcOWthpg0jsxKN2LT73JTP171/Kkyt3aurNXK9Z3c7UqdztZax5/4WvuNwJj4LJYPPI0LIpQwAlkBxUXBIVEppUggIkBMT7DzfWV/////////////Xvf2oTk3Z9qXqMfme7qC2PU8TC5NdP9KiV3zBBUOTOkxwEBp8GSQISiBmAjARiMeGDQUSAcICKHqZC2VKmSggQXKIjjCLLYoQly//OExM4nOp50AN4SuJMZhbvP1JHmd2A7NeAsIzKKam5lVq73ZyrS+5P1ZVa7S1cPra5lldvRlCSaTUhlCLTQUKThE9lNg6Q2eNESMhEsipIWA0Q3hl8vGV/////////////3Ut5ZqMpf38l9hbDWrGzwLQamj0iZ29R1KjAoGzAqajx0GjF03jMEXDGsSTMIZXCMNAZBAEGEoSGC4EGAIEAIAgMByRRg+FhgOAB0UcxNwMKnvUOaUqsgOeJQ1hUb//OExOQn2o5oAOZSuKSvGnhk0Murg5MBZ01+dmOuVLsrMkg+JUE3GZTEbOpTerT9LVjKDTI6Sj6zGF1MN1TAgSIN5QnY6isNTVxqUkEHoEYdpBGJMHeQovJIJA7TLbxfV/tpvx39///bq5+4lqRsxqLTqi5sDIdEwVd4LA0eSs8RTBnh1VT1+V1p+9UwICg0H/A7/OAyCL0wgCcyQL8ycBMKgCDgQHAESyYE7RcaRMJLogFhpgBnT6weDSlVkNl1//OExPcwuoZEAO4WuFK8LuyyNUE/S57h2iwpY9IqtjUzeCwaGzAVJXG2DZChZJlx6bLD7QlBNJyIPmZKBoZJsqLUik2RChWms3HoVU0LKpYNDJVpMBQEWoLqajEbXSIvQk2ROsTFM6EU0RZl72LrIvhRj37hPveMeKsXseZUu+K3qSow4AIzLlY2NEIlCUFCIBAJSgW8hk+jvya1DcmhoveYDAKBAJRJaBKwZBIiIsNGGmipYjRLCEUmaVHohXhZ//OExOcqWbosAO4SlJJZyTYxs2e2MUoJLt4YP2tyImdGS8rnUktWbRVFapY5dC+IoKZDmCFjGJHIcsFQaV0HQUXrSz5WNzByELSYowYWY6iYu4LgRdXdYcTOuiK1rBlDEdoiQWgoqiOhhWEFCUMxiRTQ9Vx4UWspCXMnUGjpiF0VGhK31sGmaGu1MmEjiZw1suEIiJBKt0WiUN3Y17vRGZkzYWURaGoSoM4HysbE6DddWroC0pWL3YR1eNmmceOa//OExPAufBIYAOpG3Vl1akl6GH6qV8US0srn2t9mn9EqavDvTWCN681l6l4PhpJmO5svkz2dtopIqfObASmga01mUh59Vm4xqcnXIFt2x5Eqjlwcc1s04lklWlF59rXNRrPr9G3zahsc7yz7svsUlWfz2SvWpp2SB8InXjJhj3uZwntYcky4SrWuWvKRXGopclqVhE+msxmxLpm3V7G5jVWOPssWhjT0tKAI2eCJULGq3UZ7I8akqtIXM3QmvCon//OExOkt7CoMANsM3WNl7lO4YrCfa3d42w22BAh6mezRLuDBeI2YniXtEpBjUhub+0k8WBEjLA4wvktMvnpRx5Ndkjjt1nJDjUlFE80agQN7uvqA7YossUcVVWxZMLCLYlZyfCLOaT1QSKXqyVW7ngsJUyuGi7bxIHj3TmYi5sDrcqV0YgaaE5W0w8cWcKRawqpdGLAjdKDtLURYG/IYQKOC3Ojp7Sct+llXOS7GpSxe9Ks4jDjcmxPw6ccki4QZ//OExOQybDn0ANPM3AZClxQoHKVjSqpP2Eys2FEpFS0rkt7UuFXMhbtvULnGfHQr1cpGxQqdRq5rQ9BQlxieDMlmNdwZrq5bd0ortI/DjE79WbnkAma5plokJEZJKsPzZmeOQI2l1jC5+cEUCoUC8UaOZESgMhNzcwUTg/FlhDRtdxOKCYHxCowaHROQoCNVllwPAtSiMrFFFs42OXFyAHyEWYGGEcBAyapU4jbIXopxDT58oQINwUDKJguRkNUQ//OExM069DnoANvS3CZIxNbZnjJK+BwlRUeSIgtsoGi93FMYCyqClYdDF0EnO27tPvCzfxy+VSrLCesyKPyupHhwE0ZAJFEiJEiPFCtm8ubURMmT5iRhzaCJfrsIlXGYG3SZtpqZ1dVlotO4MlO5ZWa6bJhKKJWFK2vo1yRPCKKiC0bIN/uZTlXf5SqMkmWTPKEicM03C6yOfViRjrizGHSaQJGJl4BlsnNPGq00rL8TZLMcfG0m99zHlcwVzZYi//OExJQs1Dn4ANJM3NUdFzXZbrQ7bX9pNsQ8nbk+5NtFZb708Mla4XjPZfQVJwFNnuzjjheqfreFfCgq2d4zACSN9FkAYkgQB1nkYiDiGhZA47lkSDoamiUM2EWcIKw1KEQYHclEuUUSwS/t0pvanYwo844KMxFPfukqeGm0WkpXajobls7zmP7q7ppXV42bGksOLzo9t35HbJu7vO3a6MiM1no/9fq9ctoQxrk0/G7vadRut3h3ZSLnP5jZ/djL//OExJMojDn8ANGM3H1F3vpl7E3Twyo5+a/WxqoGQEEDZBaSCVkFyaNnWapII86TzTuBlOUur2y9obYEyOhjHJE5XSz4KwtnwQ4ciquRQmhXEupdLNdcIN6ZQK0qlSNNjpjT/CV4lJ9ZoYu6/2MdGpoy41v6eso5eZlTv6SVZbO0eXebY39fZOjqe029ZGtzIbTrEbOm/NN5TvZUqpTx7e+ZV9O1Oqi8Rs5lbmPEd7UzmW2cuLrMr/7hmFUJBQpo//OExKMoLBn8AKJM3bUkTdFCeTW5omZqSdSfRBG3k9v5IMWSY+ETCVATymoeiNRMEuXzTiZqN0bTpHpwQflpM+pwUzwzMldMjp6Nubz3IeC0+6VUnsTsEoY96jlrMZozS0teNe/uwiz0/aMnGduV/j33+vOszX3gD/eJOjYbGZP+HetZo2y9nyU1fzDd66JZ2brb9+PXnUK1BiITzKCFLIEUIqo5TT6YJAcaikNx6zSTeV6nqYU9REyuxF5ZeR8w//OExLUmG+IAAKGM3U2wnIhyPxryRThGD4HWCrNotIVLWlJVNlJGUTW6EQwSfD9Z9SdtU84DJbRrNZFZHHMW3erVzqsouf3fJ/r7m7m53bWecvcbfms9U8Xk+M1yi5l2lt+Oz83DW31LNed8dsiyrycfJbSTu3SSDv5fj/Jbmf1wobNKK4stB17KGjRqAKY1IELFsVEmTqWqVM8Y8xF4offmGqeQmJeMyKJRBLA7BKJ5YNjFCfUrkNt1re+ZnlzL//OExM8mY2H8AMJMvQ+61d1mC7rW0/bLUx2iPjlh95ahPuroYlxSyJ1qp8k49RI0xZEvEjYXLXRpiyJx6iR1qSmNlsSNMWic7N2eNk4u1U+U+b9lrUkaVCRsbLbMxsnWokaWpKY2frPlFwsiDASaNP/5eNk49RIFA0FzKxOSHFVZWJm7f/91ZFM1MllBqkxBTUUzLjEwMKqqqqqqqqqqqqqqqqqqqqqqqqqqqqqqqqqqqqqqqqqqqqqqqqqqqqqq//OExOgtU3G8AMsMvaqqqqqqqqqqqqqqqqqqqqqqqqqqqqqqqqqqqqqqqqqqqqqqqqqqqqqqqqqqqqqqqqqqqqqqqqqqqqqqqqqqqqqqqqqqqqqqqqqqqqqqqqqqqqqqqqqqqqqqqqqqqqqqqqqqqqqqqqqqqqqqqqqqqqqqqqqqqqqqqqqqqqqqqqqqqqqqqqqqqqqqqqqqqqqqqqqqqqqqqqqqqqqqqqqqqqqqqqqqqqqqqqqqqqqqqqqqqqqq\" type=\"audio/x-wav\" />\n",
              "                    Your browser does not support the audio element.\n",
              "                </audio>\n",
              "              "
            ]
          },
          "metadata": {}
        }
      ],
      "source": [
        "# 한글 출력\n",
        "from gtts import gTTS\n",
        "from IPython.display import Audio\n",
        "\n",
        "kor_wav = gTTS('안녕하세요! ', lang = 'ko')\n",
        "kor_wav.save('kor.wav')\n",
        "\n",
        "display(Audio('kor.wav', autoplay=True))"
      ]
    },
    {
      "cell_type": "code",
      "source": [
        "!pip install pyttsx3"
      ],
      "metadata": {
        "colab": {
          "base_uri": "https://localhost:8080/"
        },
        "id": "JGpc9ojdZmQD",
        "outputId": "b45199e4-58c8-44ce-d2d8-94c419ad16ec"
      },
      "execution_count": null,
      "outputs": [
        {
          "output_type": "stream",
          "name": "stdout",
          "text": [
            "Collecting pyttsx3\n",
            "  Downloading pyttsx3-2.98-py3-none-any.whl.metadata (3.8 kB)\n",
            "Downloading pyttsx3-2.98-py3-none-any.whl (34 kB)\n",
            "Installing collected packages: pyttsx3\n",
            "Successfully installed pyttsx3-2.98\n"
          ]
        }
      ]
    },
    {
      "cell_type": "code",
      "source": [
        "from gtts import gTTS\n",
        "from IPython.display import Audio, display\n",
        "import os\n",
        "import time\n",
        "\n",
        "def text_to_speech_from_file(filename):\n",
        "    with open(filename, 'r', encoding='utf-8') as file:\n",
        "        for index, line in enumerate(file):\n",
        "            line = line.strip()\n",
        "            if line:  # 빈 줄은 건너뜀\n",
        "                # 텍스트를 음성으로 변환\n",
        "                tts = gTTS(text=line, lang='ko')\n",
        "                audio_file = f\"temp_audio_{index}.mp3\"\n",
        "\n",
        "                # 음성 파일 저장\n",
        "                tts.save(audio_file)\n",
        "\n",
        "                # 음성 파일을 재생 (IPython.display.Audio 사용)\n",
        "                display(Audio(audio_file, autoplay=True))\n",
        "\n",
        "                # 음성이 끝날 때까지 잠시 대기\n",
        "\n",
        "                time.sleep(2)  # 음성 길이에 따라 조절 가능\n",
        "\n",
        "                # 파일 삭제\n",
        "                os.remove(audio_file)\n",
        "\n",
        "                if index > 10 :\n",
        "                    break\n",
        "\n",
        "# 텍스트 파일 경로를 지정하세요.\n",
        "text_to_speech_from_file('사건의지평선.txt')\n"
      ],
      "metadata": {
        "id": "VdNYWRldOWow",
        "colab": {
          "base_uri": "https://localhost:8080/",
          "height": 487
        },
        "outputId": "b02f48a1-e99d-443f-8d63-3863056768df"
      },
      "execution_count": null,
      "outputs": [
        {
          "output_type": "display_data",
          "data": {
            "text/plain": [
              "<IPython.lib.display.Audio object>"
            ],
            "text/html": [
              "\n",
              "                <audio  controls=\"controls\" autoplay=\"autoplay\">\n",
              "                    <source src=\"data:audio/mpeg;base64,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\" type=\"audio/mpeg\" />\n",
              "                    Your browser does not support the audio element.\n",
              "                </audio>\n",
              "              "
            ]
          },
          "metadata": {}
        },
        {
          "output_type": "display_data",
          "data": {
            "text/plain": [
              "<IPython.lib.display.Audio object>"
            ],
            "text/html": [
              "\n",
              "                <audio  controls=\"controls\" autoplay=\"autoplay\">\n",
              "                    <source src=\"data:audio/mpeg;base64,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\" type=\"audio/mpeg\" />\n",
              "                    Your browser does not support the audio element.\n",
              "                </audio>\n",
              "              "
            ]
          },
          "metadata": {}
        },
        {
          "output_type": "display_data",
          "data": {
            "text/plain": [
              "<IPython.lib.display.Audio object>"
            ],
            "text/html": [
              "\n",
              "                <audio  controls=\"controls\" autoplay=\"autoplay\">\n",
              "                    <source src=\"data:audio/mpeg;base64,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\" type=\"audio/mpeg\" />\n",
              "                    Your browser does not support the audio element.\n",
              "                </audio>\n",
              "              "
            ]
          },
          "metadata": {}
        },
        {
          "output_type": "error",
          "ename": "KeyboardInterrupt",
          "evalue": "",
          "traceback": [
            "\u001b[0;31m---------------------------------------------------------------------------\u001b[0m",
            "\u001b[0;31mKeyboardInterrupt\u001b[0m                         Traceback (most recent call last)",
            "\u001b[0;32m<ipython-input-23-690df0f38654>\u001b[0m in \u001b[0;36m<cell line: 32>\u001b[0;34m()\u001b[0m\n\u001b[1;32m     30\u001b[0m \u001b[0;34m\u001b[0m\u001b[0m\n\u001b[1;32m     31\u001b[0m \u001b[0;31m# 텍스트 파일 경로를 지정하세요.\u001b[0m\u001b[0;34m\u001b[0m\u001b[0;34m\u001b[0m\u001b[0m\n\u001b[0;32m---> 32\u001b[0;31m \u001b[0mtext_to_speech_from_file\u001b[0m\u001b[0;34m(\u001b[0m\u001b[0;34m'사건의지평선.txt'\u001b[0m\u001b[0;34m)\u001b[0m\u001b[0;34m\u001b[0m\u001b[0;34m\u001b[0m\u001b[0m\n\u001b[0m",
            "\u001b[0;32m<ipython-input-23-690df0f38654>\u001b[0m in \u001b[0;36mtext_to_speech_from_file\u001b[0;34m(filename)\u001b[0m\n\u001b[1;32m     21\u001b[0m                 \u001b[0;31m# 음성이 끝날 때까지 잠시 대기\u001b[0m\u001b[0;34m\u001b[0m\u001b[0;34m\u001b[0m\u001b[0m\n\u001b[1;32m     22\u001b[0m \u001b[0;34m\u001b[0m\u001b[0m\n\u001b[0;32m---> 23\u001b[0;31m                 \u001b[0mtime\u001b[0m\u001b[0;34m.\u001b[0m\u001b[0msleep\u001b[0m\u001b[0;34m(\u001b[0m\u001b[0;36m2\u001b[0m\u001b[0;34m)\u001b[0m  \u001b[0;31m# 음성 길이에 따라 조절 가능\u001b[0m\u001b[0;34m\u001b[0m\u001b[0;34m\u001b[0m\u001b[0m\n\u001b[0m\u001b[1;32m     24\u001b[0m \u001b[0;34m\u001b[0m\u001b[0m\n\u001b[1;32m     25\u001b[0m                 \u001b[0;31m# 파일 삭제\u001b[0m\u001b[0;34m\u001b[0m\u001b[0;34m\u001b[0m\u001b[0m\n",
            "\u001b[0;31mKeyboardInterrupt\u001b[0m: "
          ]
        }
      ]
    },
    {
      "cell_type": "markdown",
      "metadata": {
        "id": "3UTLuSAp8GGY"
      },
      "source": [
        "--------"
      ]
    },
    {
      "cell_type": "code",
      "source": [
        "from gtts import gTTS\n",
        "from IPython.display import Audio, display\n",
        "import os\n",
        "import time\n",
        "\n",
        "def text_to_speech_from_file(filename):\n",
        "    with open(filename, 'r', encoding='utf-8') as file:\n",
        "        for index, line in enumerate(file):\n",
        "            line = line.strip()\n",
        "            if line:  # 빈 줄은 건너뜀\n",
        "                # 텍스트를 음성으로 변환\n",
        "                tts = gTTS(text=line, lang='ko')\n",
        "                audio_file = f\"temp_audio_{index}.mp3\"\n",
        "\n",
        "                # 음성 파일 저장\n",
        "                tts.save(audio_file)\n",
        "\n",
        "                # 음성 파일을 재생 (IPython.display.Audio 사용)\n",
        "                display(Audio(audio_file, autoplay=True))\n",
        "\n",
        "                # 음성이 끝날 때까지 잠시 대기\n",
        "                if len(line) >12:\n",
        "                  sleep_time = 3\n",
        "                else :\n",
        "                  sleep_time = 2\n",
        "\n",
        "                time.sleep(sleep_time)\n",
        "\n",
        "\n",
        "                # 파일 삭제\n",
        "                os.remove(audio_file)\n",
        "\n",
        "                if index > 10 :\n",
        "                    break\n",
        "\n",
        "# 텍스트 파일 경로를 지정하세요.\n",
        "text_to_speech_from_file('사건의지평선.txt')\n"
      ],
      "metadata": {
        "colab": {
          "base_uri": "https://localhost:8080/",
          "height": 544
        },
        "id": "lRLbZYTQdeA0",
        "outputId": "ba6399c2-41ee-4c61-9144-73d6ef6de54c"
      },
      "execution_count": null,
      "outputs": [
        {
          "output_type": "display_data",
          "data": {
            "text/plain": [
              "<IPython.lib.display.Audio object>"
            ],
            "text/html": [
              "\n",
              "                <audio  controls=\"controls\" autoplay=\"autoplay\">\n",
              "                    <source src=\"data:audio/mpeg;base64,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\" type=\"audio/mpeg\" />\n",
              "                    Your browser does not support the audio element.\n",
              "                </audio>\n",
              "              "
            ]
          },
          "metadata": {}
        },
        {
          "output_type": "display_data",
          "data": {
            "text/plain": [
              "<IPython.lib.display.Audio object>"
            ],
            "text/html": [
              "\n",
              "                <audio  controls=\"controls\" autoplay=\"autoplay\">\n",
              "                    <source src=\"data:audio/mpeg;base64,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\" type=\"audio/mpeg\" />\n",
              "                    Your browser does not support the audio element.\n",
              "                </audio>\n",
              "              "
            ]
          },
          "metadata": {}
        },
        {
          "output_type": "display_data",
          "data": {
            "text/plain": [
              "<IPython.lib.display.Audio object>"
            ],
            "text/html": [
              "\n",
              "                <audio  controls=\"controls\" autoplay=\"autoplay\">\n",
              "                    <source src=\"data:audio/mpeg;base64,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\" type=\"audio/mpeg\" />\n",
              "                    Your browser does not support the audio element.\n",
              "                </audio>\n",
              "              "
            ]
          },
          "metadata": {}
        },
        {
          "output_type": "display_data",
          "data": {
            "text/plain": [
              "<IPython.lib.display.Audio object>"
            ],
            "text/html": [
              "\n",
              "                <audio  controls=\"controls\" autoplay=\"autoplay\">\n",
              "                    <source src=\"data:audio/mpeg;base64,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\" type=\"audio/mpeg\" />\n",
              "                    Your browser does not support the audio element.\n",
              "                </audio>\n",
              "              "
            ]
          },
          "metadata": {}
        },
        {
          "output_type": "error",
          "ename": "KeyboardInterrupt",
          "evalue": "",
          "traceback": [
            "\u001b[0;31m---------------------------------------------------------------------------\u001b[0m",
            "\u001b[0;31mKeyboardInterrupt\u001b[0m                         Traceback (most recent call last)",
            "\u001b[0;32m<ipython-input-24-d59f64759f61>\u001b[0m in \u001b[0;36m<cell line: 37>\u001b[0;34m()\u001b[0m\n\u001b[1;32m     35\u001b[0m \u001b[0;34m\u001b[0m\u001b[0m\n\u001b[1;32m     36\u001b[0m \u001b[0;31m# 텍스트 파일 경로를 지정하세요.\u001b[0m\u001b[0;34m\u001b[0m\u001b[0;34m\u001b[0m\u001b[0m\n\u001b[0;32m---> 37\u001b[0;31m \u001b[0mtext_to_speech_from_file\u001b[0m\u001b[0;34m(\u001b[0m\u001b[0;34m'사건의지평선.txt'\u001b[0m\u001b[0;34m)\u001b[0m\u001b[0;34m\u001b[0m\u001b[0;34m\u001b[0m\u001b[0m\n\u001b[0m",
            "\u001b[0;32m<ipython-input-24-d59f64759f61>\u001b[0m in \u001b[0;36mtext_to_speech_from_file\u001b[0;34m(filename)\u001b[0m\n\u001b[1;32m     25\u001b[0m                   \u001b[0msleep_time\u001b[0m \u001b[0;34m=\u001b[0m \u001b[0;36m2\u001b[0m\u001b[0;34m\u001b[0m\u001b[0;34m\u001b[0m\u001b[0m\n\u001b[1;32m     26\u001b[0m \u001b[0;34m\u001b[0m\u001b[0m\n\u001b[0;32m---> 27\u001b[0;31m                 \u001b[0mtime\u001b[0m\u001b[0;34m.\u001b[0m\u001b[0msleep\u001b[0m\u001b[0;34m(\u001b[0m\u001b[0msleep_time\u001b[0m\u001b[0;34m)\u001b[0m\u001b[0;34m\u001b[0m\u001b[0;34m\u001b[0m\u001b[0m\n\u001b[0m\u001b[1;32m     28\u001b[0m \u001b[0;34m\u001b[0m\u001b[0m\n\u001b[1;32m     29\u001b[0m \u001b[0;34m\u001b[0m\u001b[0m\n",
            "\u001b[0;31mKeyboardInterrupt\u001b[0m: "
          ]
        }
      ]
    },
    {
      "cell_type": "markdown",
      "metadata": {
        "id": "fmU7O8WS8GGY"
      },
      "source": [
        "### **[연산자]**"
      ]
    },
    {
      "cell_type": "markdown",
      "metadata": {
        "id": "eRCyhgwS8GGY"
      },
      "source": [
        "### 실습문제 :  동전 교환 프로그램\n",
        "동전교환 프로그램을 작성하세요"
      ]
    },
    {
      "cell_type": "code",
      "execution_count": null,
      "metadata": {
        "id": "g8A7ErL78GGY"
      },
      "outputs": [],
      "source": [
        "# 키보드로부터 금액 입력 받기\n",
        "print('---동전교환기 프로그램을 작동합니다.---')\n",
        "money = int( input('금액을 입력하세요: '))\n",
        "\n",
        "\n"
      ]
    },
    {
      "cell_type": "code",
      "source": [
        "print('---동전교환기 프로그램을 작동합니다.---')\n",
        "money = int( input('금액을 입력하세요: '))\n",
        "print('-' * 30)\n",
        "print(f'500원짜리 ==> {money//500}개')\n",
        "money = money%500\n",
        "print(f'100원짜리 ==> {money//100}개')\n",
        "money = money%100\n",
        "print(f' 50원짜리 ==> {money//50}개')\n",
        "money = money%50\n",
        "print(f' 10원짜리 ==> {money//10}개')\n",
        "money = money%10\n",
        "print(f'잔돈      ==> {money}원')"
      ],
      "metadata": {
        "colab": {
          "base_uri": "https://localhost:8080/"
        },
        "id": "qui1pB5Lj5tq",
        "outputId": "c4e9980c-cc14-4874-ed7f-4543cca98caa"
      },
      "execution_count": null,
      "outputs": [
        {
          "output_type": "stream",
          "name": "stdout",
          "text": [
            "---동전교환기 프로그램을 작동합니다.---\n",
            "금액을 입력하세요: 9999\n",
            "------------------------------\n",
            "500원짜리 ==> 19개\n",
            "100원짜리 ==> 4개\n",
            " 50원짜리 ==> 1개\n",
            " 10원짜리 ==> 4개\n",
            "잔돈      ==> 9원\n"
          ]
        }
      ]
    },
    {
      "cell_type": "code",
      "source": [
        "print('---동전교환기 프로그램을 작동합니다.---')\n",
        "money = int( input('금액을 입력하세요: '))\n",
        "print('-' * 30)\n",
        "\n",
        "coins = [500, 100, 50, 10]\n",
        "for coin in coins:\n",
        "    print(f'{coin}원짜리 ==> {money//coin}개')\n",
        "    money = money%coin\n",
        "print(f'잔돈      ==> {money}원')\n",
        "\n"
      ],
      "metadata": {
        "colab": {
          "base_uri": "https://localhost:8080/"
        },
        "id": "AVdZqsM9kIad",
        "outputId": "2972384b-9023-4a33-a694-49f0c546cadd"
      },
      "execution_count": null,
      "outputs": [
        {
          "output_type": "stream",
          "name": "stdout",
          "text": [
            "---동전교환기 프로그램을 작동합니다.---\n",
            "금액을 입력하세요: 12222\n",
            "------------------------------\n",
            "500원짜리 ==> 24개\n",
            "100원짜리 ==> 2개\n",
            "50원짜리 ==> 0개\n",
            "10원짜리 ==> 2개\n",
            "잔돈      ==> 2원\n"
          ]
        }
      ]
    },
    {
      "cell_type": "code",
      "source": [
        "def coin_exchange(amount):\n",
        "    coins = [500, 100, 50, 10]\n",
        "    result = {}\n",
        "\n",
        "    for coin in coins:\n",
        "        count = amount // coin\n",
        "        if count > 0:\n",
        "            result[coin] = count\n",
        "            amount %= coin\n",
        "\n",
        "    return result\n",
        "\n",
        "# 사용자 입력 받기\n",
        "try:\n",
        "    input_amount = int(input(\"동전으로 교환할 금액을 입력하세요: \"))\n",
        "    if input_amount < 0:\n",
        "        raise ValueError(\"음수 금액은 입력할 수 없습니다.\")\n",
        "except ValueError as e:\n",
        "    print(f\"오류: {e}\")\n",
        "    exit(1)\n",
        "\n",
        "# 동전 교환 계산\n",
        "exchange_result = coin_exchange(input_amount)\n",
        "\n",
        "# 결과 출력\n",
        "print(f\"\\n{input_amount}원의 최소 동전 개수:\")\n",
        "for coin, count in exchange_result.items():\n",
        "    print(f\"{coin}원: {count}개\")\n",
        "\n",
        "print(f\"\\n총 동전 개수: {sum(exchange_result.values())}개\")"
      ],
      "metadata": {
        "id": "ooh9IVsCf9ld",
        "outputId": "9d995a70-f6c4-4df3-90e8-aa55a53a0b54",
        "colab": {
          "base_uri": "https://localhost:8080/"
        }
      },
      "execution_count": null,
      "outputs": [
        {
          "output_type": "stream",
          "name": "stdout",
          "text": [
            "동전으로 교환할 금액을 입력하세요: 5930\n",
            "\n",
            "5930원의 최소 동전 개수:\n",
            "500원: 11개\n",
            "100원: 4개\n",
            "10원: 3개\n",
            "\n",
            "총 동전 개수: 18개\n"
          ]
        }
      ]
    },
    {
      "cell_type": "markdown",
      "source": [
        "### 실습문제 : 비교 연산자를 이용한 상품 필터링하기\n",
        "아래 상품 딕셔너리에서 가격이 1000 이하인 상품을 필터링하고 상품과 해당 가격을 출력하시오."
      ],
      "metadata": {
        "id": "7GL-zafcQwDq"
      }
    },
    {
      "cell_type": "code",
      "source": [
        "# 상품 가격을 가진 사전\n",
        "products = { \"apple\": 1000, \"banana\": 800, \"cherry\": 1500,\n",
        "            \"date\": 1200, \"elderberry\": 2000 }\n",
        "\n",
        "# 가격이 1000 이하인 상품 필터링\n",
        "print('가격이 1000 이하인 상품 필터링')\n",
        "print('-'*30)\n",
        "for key, value in products.items():\n",
        "    if value <= 1000:\n",
        "        print(f'상품명: {key}, 가격: {value}')\n"
      ],
      "metadata": {
        "id": "78IAx7VkQwW_",
        "colab": {
          "base_uri": "https://localhost:8080/"
        },
        "outputId": "87c75af4-e0c9-40c7-8a76-032f6495208b"
      },
      "execution_count": null,
      "outputs": [
        {
          "output_type": "stream",
          "name": "stdout",
          "text": [
            "가격이 1000 이하인 상품 필터링\n",
            "------------------------------\n",
            "상품명: apple, 가격: 1000\n",
            "상품명: banana, 가격: 800\n"
          ]
        }
      ]
    },
    {
      "cell_type": "markdown",
      "metadata": {
        "id": "0SWp1LN08GGY"
      },
      "source": [
        "------"
      ]
    },
    {
      "cell_type": "markdown",
      "metadata": {
        "id": "x4FIhV_y8GGZ"
      },
      "source": [
        "## 3.조건문과 반목문으로 흐름 제어하기"
      ]
    },
    {
      "cell_type": "markdown",
      "metadata": {
        "id": "LPe_skHf8GGZ"
      },
      "source": [
        "### **[조건문]**"
      ]
    },
    {
      "cell_type": "markdown",
      "source": [
        "#### 조건문 구조 4개"
      ],
      "metadata": {
        "id": "HIFAD_kqX1uL"
      }
    },
    {
      "cell_type": "code",
      "source": [
        "# 조건식1: if 조건식\n",
        "a = 99\n",
        "if a < 100 :\n",
        "    print('a는 100보다 작군요')"
      ],
      "metadata": {
        "id": "d9jDMOjbX4hu"
      },
      "execution_count": null,
      "outputs": []
    },
    {
      "cell_type": "code",
      "source": [
        "# 조건식2: if ~ else\n",
        "a = 200\n",
        "if a > 100:\n",
        "    print('a는 100보다 크군요')\n",
        "else:\n",
        "    print('a는 100보다 크지 않군요')"
      ],
      "metadata": {
        "id": "9ehdd_YIYEus"
      },
      "execution_count": null,
      "outputs": []
    },
    {
      "cell_type": "code",
      "source": [
        "# 조건문3: 중첩 if - 조건문 안에 조건문\n",
        "a = 200\n",
        "if a > 100:\n",
        "    if a > 200 :\n",
        "        print('a는 200보다 크군요')\n",
        "    else:\n",
        "        print('a는 200보다 크거나 같군요')\n",
        "else:\n",
        "    print('a는 100보다 크지 않군요')"
      ],
      "metadata": {
        "id": "nOi_cwzoYE2u"
      },
      "execution_count": null,
      "outputs": []
    },
    {
      "cell_type": "code",
      "source": [
        "# 조건문4: 다중 조건문\n",
        "pocket = ['paper', 'handphone']\n",
        "card = True\n",
        "\n",
        "if 'money' in pocket:\n",
        "    print('택시를 타고 가라')\n",
        "elif card:\n",
        "    print('택시를 타고 가라')\n",
        "else:\n",
        "    print('걸어가라')"
      ],
      "metadata": {
        "id": "T_P0EQFeYFBE"
      },
      "execution_count": null,
      "outputs": []
    },
    {
      "cell_type": "markdown",
      "metadata": {
        "id": "Io13oQKLhgph"
      },
      "source": [
        "#### 조건부 표현식"
      ]
    },
    {
      "cell_type": "code",
      "execution_count": null,
      "metadata": {
        "id": "h0V6WqWchnTA"
      },
      "outputs": [],
      "source": [
        "score = int(input('점수를 입력하세요: '))\n",
        "message = \"success!\" if score >=60 else \"failure!\"\n",
        "print(message)"
      ]
    },
    {
      "cell_type": "markdown",
      "metadata": {
        "id": "Ar6JKwtB8GGZ"
      },
      "source": [
        "#### 실습문제 : 짝수 홀수 판별하기\n",
        "숫자를 입력 받아 짝수/홀수를 판별하는 코드를 만들어 보세요."
      ]
    },
    {
      "cell_type": "code",
      "execution_count": null,
      "metadata": {
        "id": "09w2BCcN8GGZ",
        "colab": {
          "base_uri": "https://localhost:8080/"
        },
        "outputId": "3d012e97-78d4-47e0-846f-26a3d77a3e70"
      },
      "outputs": [
        {
          "output_type": "stream",
          "name": "stdout",
          "text": [
            "숫자를 입력해 주세요: 39\n",
            "입력된 수: 39==> 홀수\n"
          ]
        }
      ],
      "source": [
        "x = int(input('숫자를 입력해 주세요: '))\n",
        "\n",
        "if x % 2 == 0:\n",
        "    print(f'입력된 수: {x}==> 짝수')\n",
        "else:\n",
        "    print(f'입력된 수: {x}==> 홀수')\n"
      ]
    },
    {
      "cell_type": "code",
      "source": [
        "#위의 코드 한줄로 줄이기\n",
        "\n",
        "x = int(input('숫자를 입력해 주세요: '))\n",
        "\n",
        "print(f'입력된 수: {x} ==> 짝수') if x % 2 == 0 else print(f'입력된 수: {x} ==> 홀수')\n",
        "\n"
      ],
      "metadata": {
        "colab": {
          "base_uri": "https://localhost:8080/"
        },
        "id": "pjO4f73Fqybw",
        "outputId": "8684c0bd-b822-40cc-aaee-75803e019663"
      },
      "execution_count": null,
      "outputs": [
        {
          "output_type": "stream",
          "name": "stdout",
          "text": [
            "숫자를 입력해 주세요: 67\n",
            "입력된 수: 67 ==> 홀수\n"
          ]
        }
      ]
    },
    {
      "cell_type": "markdown",
      "metadata": {
        "id": "3SDdg7Aeg7MW"
      },
      "source": [
        "### 실습문제 : 커피 자판기 조건문\n",
        "아래 조건을 만족하는 커피 자동주문 머신을 만들어보세요.<br><br>\n",
        "[커피 자동주문 머신]<br>\n",
        "친구들과 현금 커피 자동주문 머신 앞에서\n",
        " - 아메리카노 2잔과 카페라테 2잔 카푸치노 1잔을 주문하였다.\n",
        " - 아메리카노 한잔에 2500원이고\n",
        " - 카페라테는 한잔에 3000원\n",
        " - 카푸치노는 한잔에 3000원이다.\n",
        "커피 종류와 잔 수를 결정한 후 현금 15000원을 투입하고 잔돈을 1000원 받았다."
      ]
    },
    {
      "cell_type": "code",
      "execution_count": null,
      "metadata": {
        "id": "BZlOMJHKg7dN"
      },
      "outputs": [],
      "source": [
        "menu = '''[커피 자동주문 머신 메뉴]\n",
        "------------------------------\n",
        "-아메리카노는 2500원\n",
        "-카레라떼는 3000원\n",
        "-카푸치노는 3000원\n",
        "입니다. 원하시는 커피종류와 잔수를 입력하세요.\n",
        "------------------------------'''\n",
        "print(menu)\n",
        "coffee1 = int(input(\"아메리카노 몇잔?\"))\n",
        "coffee2 = int(input(\"카페라떼 몇잔?\"))\n",
        "coffee3 = int(input(\"카푸치노 몇잔?\"))\n",
        "\n"
      ]
    },
    {
      "cell_type": "code",
      "source": [
        "menu = '''[커피 자동주문 머신 메뉴]\n",
        "------------------------------\n",
        "-아메리카노는 2500원\n",
        "-카레라떼는 3000원\n",
        "-카푸치노는 3000원\n",
        "입니다. 원하시는 커피종류와 잔수를 입력하세요.\n",
        "------------------------------'''\n",
        "print(menu)\n",
        "coffee1 = int(input(\"아메리카노 몇잔?\"))\n",
        "coffee2 = int(input(\"카페라떼 몇잔?\"))\n",
        "coffee3 = int(input(\"카푸치노 몇잔?\"))\n",
        "\n",
        "if coffee1 > 0:\n",
        "    print(f'아메리카노 {coffee1}잔')\n",
        "if coffee2 > 0:\n",
        "    print(f'카페라떼 {coffee2}잔')\n",
        "if coffee3 > 0:\n",
        "    print(f'카푸치노 {coffee3}잔')\n",
        "\n",
        "print(f'주문하신 총 가격은 {coffee1 * 2500 + coffee2 * 3000 + coffee3 * 3000}원 입니다.')\n",
        "\n",
        "# 커피 종류와 잔 수를 결정한 후 현금 15000원을 투입하고 잔돈을 1000원 받았다.\n",
        "money = int(input('현금을 넣어주세요: '))\n",
        "change = money - (coffee1 * 2500 + coffee2 * 3000 + coffee3 * 3000)\n",
        "print(f'거스름돈은 {change}원 입니다.')\n"
      ],
      "metadata": {
        "colab": {
          "base_uri": "https://localhost:8080/"
        },
        "id": "uDfsdLfTrYD7",
        "outputId": "987a4cd5-e437-4632-e704-ee7f5a4a98f1"
      },
      "execution_count": null,
      "outputs": [
        {
          "output_type": "stream",
          "name": "stdout",
          "text": [
            "[커피 자동주문 머신 메뉴]\n",
            "------------------------------\n",
            "-아메리카노는 2500원\n",
            "-카레라떼는 3000원\n",
            "-카푸치노는 3000원\n",
            "입니다. 원하시는 커피종류와 잔수를 입력하세요.\n",
            "------------------------------\n",
            "아메리카노 몇잔?2\n",
            "카페라떼 몇잔?3\n",
            "카푸치노 몇잔?1\n",
            "아메리카노 2잔\n",
            "카페라떼 3잔\n",
            "카푸치노 1잔\n",
            "주문하신 총 가격은 17000원 입니다.\n",
            "현금을 넣어주세요: 2000\n",
            "거스름돈은 -15000원 입니다.\n"
          ]
        }
      ]
    },
    {
      "cell_type": "markdown",
      "metadata": {
        "id": "4RoolGBF8GGa"
      },
      "source": [
        "------"
      ]
    },
    {
      "cell_type": "markdown",
      "metadata": {
        "id": "G2T6Nybt8GGa"
      },
      "source": [
        "### **[반복문]**"
      ]
    },
    {
      "cell_type": "markdown",
      "metadata": {
        "id": "HuWJNA-T8GGa"
      },
      "source": [
        "### 실습문제 : 1~N까지 합계 구하기\n",
        "숫자를 입력받아 1~n까지의 합을 구할 때 짝수를 제외하고 합을 구하는 프로그램을 만들어 보세요."
      ]
    },
    {
      "cell_type": "code",
      "execution_count": null,
      "metadata": {
        "id": "t4NbQOOe8GGa"
      },
      "outputs": [],
      "source": [
        "n = int(input('합계를 구할 숫자 입력:'))\n",
        "hap = 0\n",
        "\n",
        "\n"
      ]
    },
    {
      "cell_type": "markdown",
      "metadata": {
        "id": "p7P0Vy-XjIBz"
      },
      "source": [
        "### 실습문제 : 나무 열 번 찍어 넘기기"
      ]
    },
    {
      "cell_type": "code",
      "execution_count": null,
      "metadata": {
        "id": "A1OSHn1tjNE5"
      },
      "outputs": [],
      "source": [
        "treeHit = 0\n",
        "\n"
      ]
    },
    {
      "cell_type": "markdown",
      "metadata": {
        "id": "iPCnjI9UkoHr"
      },
      "source": [
        "### 실습문제 :  커피 자동주문 프로그램 업그레이드\n",
        "앞에서 만들어 본 커피 자동주문 머신 프로그램을 while문을 이용하여 돈을 모두 지불할 때까지 돈을 입력 받도록 프로그램 기능 수정하기"
      ]
    },
    {
      "cell_type": "code",
      "execution_count": null,
      "metadata": {
        "id": "HtKho6P3kxtS"
      },
      "outputs": [],
      "source": [
        "menu = '''[커피 자동주문 머신 메뉴]\n",
        "------------------------------\n",
        "-아메리카노는 2500원\n",
        "-카레라떼는 3000원\n",
        "-카푸치노는 3000원\n",
        "입니다. 원하시는 커피종류와 잔수를 입력하세요.\n",
        "------------------------------'''\n",
        "print(menu)\n",
        "coffee1 = int(input(\"아메리카노 몇잔?\"))\n",
        "coffee2 = int(input(\"카페라떼 몇잔?\"))\n",
        "coffee3 = int(input(\"카푸치노 몇잔?\"))\n",
        "\n"
      ]
    },
    {
      "cell_type": "markdown",
      "metadata": {
        "id": "bBpYo7he8GGc"
      },
      "source": [
        "### 실습문제 : 도둑잡기 게임 만들기\n",
        "경찰에 쫓기던 범인이 3개의 방 중에 한 곳에 숨어버렸습니다. 범인은 방문을 열 때마다 무작위로 3개의 방 중 하나의 방으로 이동합니다. 3개의 방 중 하나의 방을 선택했을 때 범인이 있다면 100점, 없을 때 -10점을 부여하고 범인을 잡으면 게임을 종료하는 프로그램을 만들어 보세요."
      ]
    },
    {
      "cell_type": "code",
      "execution_count": null,
      "metadata": {
        "id": "Yjs0Tp0m8GGc"
      },
      "outputs": [],
      "source": [
        "import random\n",
        "score = 0\n",
        "\n",
        "while True:  # 무한반복\n",
        "    # 1.무작위로 범인 방 배치\n",
        "\n",
        "\n",
        "\n",
        "    # 2.사용자로부터 방 번호 입력 받기\n",
        "    n = int(input('방 번호를 입력하세요(1,2,3): '))\n",
        "\n",
        "    # 3.사용자가 입력한 방 번호와 범인이 있는 방 비교\n",
        "    # 4.범인을 찾으면\n",
        "    # 범인 체포“라는 메시지 출력\n",
        "    # 점수 증가\n",
        "    # 무한반복 빠져 나가기\n",
        "\n",
        "    # 5.범인을 찾지 못하면\n",
        "    # “범인을 찾지 못했다“라는 메시지 출력\n",
        "    # 점수 감소\n",
        "\n",
        "# 게임 종료 메시지 출력\n",
        "# 최종 점수 출력"
      ]
    },
    {
      "cell_type": "markdown",
      "metadata": {
        "id": "FTX-Fvb28GGc"
      },
      "source": [
        "------"
      ]
    },
    {
      "cell_type": "markdown",
      "metadata": {
        "id": "8tdBEUuy8GGe"
      },
      "source": [
        "## 4.함수를 이용하여 알고리즘 만들기"
      ]
    },
    {
      "cell_type": "markdown",
      "metadata": {
        "id": "A50BCkk98GGe"
      },
      "source": [
        "### **[함수 & 모듈]**"
      ]
    },
    {
      "cell_type": "code",
      "execution_count": null,
      "metadata": {
        "id": "3gNw75bI8GGe"
      },
      "outputs": [],
      "source": [
        "def nSum(a, b):\n",
        "    c = a + b\n",
        "    return c\n",
        "\n",
        "nSum(50, 3)"
      ]
    },
    {
      "cell_type": "markdown",
      "metadata": {
        "id": "ZH2oJDOzmgta"
      },
      "source": [
        "####  함수의 구조\n",
        "매개변수와 리턴값에 따른 함수의 유형 예"
      ]
    },
    {
      "cell_type": "markdown",
      "metadata": {
        "id": "ZVu_uCmBmwX9"
      },
      "source": [
        "- 매개변수(X), 리턴값(X)"
      ]
    },
    {
      "cell_type": "code",
      "execution_count": null,
      "metadata": {
        "id": "PhoFdGdpmg2i"
      },
      "outputs": [],
      "source": [
        "def func():\n",
        "    print('안녕하세요!')\n",
        "\n",
        "print( func() )"
      ]
    },
    {
      "cell_type": "markdown",
      "metadata": {
        "id": "rYJvu1mKm1lA"
      },
      "source": [
        "- 매개변수(X), 리턴값(O)"
      ]
    },
    {
      "cell_type": "code",
      "execution_count": null,
      "metadata": {
        "id": "RtmltcdOm1sg"
      },
      "outputs": [],
      "source": [
        "def func():\n",
        "    print('안녕하세요!')\n",
        "    return '처리완료!'\n",
        "\n",
        "print( func() )"
      ]
    },
    {
      "cell_type": "markdown",
      "metadata": {
        "id": "kAiXc3qom1zq"
      },
      "source": [
        "- 매개변수(O), 리턴값(X)"
      ]
    },
    {
      "cell_type": "code",
      "execution_count": null,
      "metadata": {
        "id": "mdneVBp_m16L"
      },
      "outputs": [],
      "source": [
        "def func(a, b):\n",
        "    print('덧셈: %d + %d = %d' % (a, b, a+b))\n",
        "\n",
        "print( func(5, 7) )"
      ]
    },
    {
      "cell_type": "markdown",
      "metadata": {
        "id": "UWx5mc2Bm2Ah"
      },
      "source": [
        "- 매개변수(O), 리턴값(O)"
      ]
    },
    {
      "cell_type": "code",
      "execution_count": null,
      "metadata": {
        "id": "u40Eqnc1m2IB"
      },
      "outputs": [],
      "source": [
        "def func(a, b):\n",
        "    print('덧셈: %d + %d = %d' % (a, b, a+b))\n",
        "    return a+b\n",
        "\n",
        "print( func(5, 7) )"
      ]
    },
    {
      "cell_type": "markdown",
      "metadata": {
        "id": "Oq6XLdiqm9lV"
      },
      "source": [
        "### 실습문제 : 암스트롱수 판별 함수\n",
        "다음 조건을 참고하여 암스트롱수를 구하는 함수를 만들어 출력하는 프로그램을 만들어 보세요.\n",
        "- **암스트롱수** : 세 자리의 정수 중에서 각 자리의 수를 세 제곱한 수의 합과 자신이 같은 수"
      ]
    },
    {
      "cell_type": "code",
      "execution_count": null,
      "metadata": {
        "id": "DvFLshFqm9t8"
      },
      "outputs": [],
      "source": [
        "def is_armstringNumber(N):\n",
        "\n",
        "\n",
        "\n",
        "\n",
        "for i in range(100, 1000):\n",
        "    if is_armstringNumber(i):\n",
        "        print(\"[%i] is armstrong number\" % i)"
      ]
    },
    {
      "cell_type": "markdown",
      "metadata": {
        "id": "Kvzu_J_a8GGf"
      },
      "source": [
        "### 실습문제 : 환전 계산 함수\n",
        "아래 조건을 만족하는 환전계산 함수를 만들어 보세요."
      ]
    },
    {
      "cell_type": "code",
      "execution_count": null,
      "metadata": {
        "id": "x1jdgfzq8GGf",
        "scrolled": true
      },
      "outputs": [],
      "source": [
        "def moneyExchange(m, c):\n",
        "\n",
        "\n",
        "\n",
        "countrys = {'미국':['달러', 1182.5],\n",
        "            '중국':['위안', 169.22],\n",
        "            '유럽':['유로', 1286.74],\n",
        "            '일본':['엔', 1078.14]}\n",
        "money = int(input('환전 금액(원)을 입력하세요: '))\n",
        "country = input('국가를 입력하세요: ')\n",
        "print('-'*30)\n",
        "moneyExchange(money, country)"
      ]
    },
    {
      "cell_type": "markdown",
      "source": [
        "\n",
        "\n",
        "---\n",
        "\n"
      ],
      "metadata": {
        "id": "jcBxboxauPTJ"
      }
    },
    {
      "cell_type": "markdown",
      "metadata": {
        "id": "Ajjvg18_8GGg"
      },
      "source": [
        "### 5.ChatGPT와 페어프로그래밍하기"
      ]
    },
    {
      "cell_type": "markdown",
      "source": [
        "### 실습문제 : 영어 단어장 만들기\n",
        "아래 조건을 만족시키는 <영어단어장 만들기> 프로그램을 만들어 보세요.\n",
        "\n",
        "영단어는 key, 그의 뜻은 value 로 두는 dictionary 를 만드세요.<br>\n",
        "<메뉴>\n",
        " - 1. 단어 등록\n",
        " - 2. 단어 검색\n",
        " - 3. 단어 삭제\n",
        " - 4. 모든 단어 보기\n",
        " - 0. 종료하기\n",
        "\n",
        "1. 단어 등록 <br>\n",
        "    새 영단어와 그의 뜻을 입력 받고 dictionary 에 추가합니다.\n",
        "\n",
        "2. 단어 검색<br>\n",
        "    영단어를 입력 받아 그의 뜻을 출력합니다.<br>\n",
        "    미등록된 단어인 경우 '미등록 단어'를 출력합니다.\n",
        "    \n",
        "3. 단어 삭제<br>\n",
        "    영단어를 입력 받아 단어장에서 해당 단어를 삭제한다.<br>\n",
        "    미등록된 단어인 경우 '미등록 단어'를 출력합니다\n",
        "    \n",
        "4. 모든 단어 보기<br>\n",
        "    현재 등록되어 있는 모든 단어와 뜻을 출력합니다.\n",
        "\n",
        "0. 종료하기"
      ],
      "metadata": {
        "id": "LgP7QlUCtw9A"
      }
    },
    {
      "cell_type": "code",
      "source": [
        "menu = '''---선택메뉴--\n",
        "1. 단어 등록\n",
        "2. 단어 검색\n",
        "3. 단어 삭제\n",
        "4. 모든 단어 보기\n",
        "0. 종료하기\n",
        "------------------------------'''\n",
        "\n",
        "# 빈 딕셔너리를 만든다. (반복문 안에 넣지 않는다!)\n",
        "wordbook = {}\n",
        "\n",
        "def addBook():\n",
        "\n",
        "\n",
        "def searchBook():\n",
        "\n",
        "\n",
        "def deleteBook():\n",
        "\n",
        "\n",
        "def showAllBook():\n",
        "\n",
        "\n"
      ],
      "metadata": {
        "id": "eZLiY8m-txGd"
      },
      "execution_count": null,
      "outputs": []
    },
    {
      "cell_type": "markdown",
      "metadata": {
        "id": "SD7IuCtyEfxZ"
      },
      "source": [
        "\n",
        "\n",
        "---\n",
        "THE END\n",
        "\n"
      ]
    },
    {
      "cell_type": "markdown",
      "metadata": {
        "id": "RQoDVEJ38GGg"
      },
      "source": [
        "------"
      ]
    }
  ],
  "metadata": {
    "colab": {
      "provenance": [],
      "include_colab_link": true
    },
    "kernelspec": {
      "display_name": "Python 3 (ipykernel)",
      "language": "python",
      "name": "python3"
    },
    "language_info": {
      "codemirror_mode": {
        "name": "ipython",
        "version": 3
      },
      "file_extension": ".py",
      "mimetype": "text/x-python",
      "name": "python",
      "nbconvert_exporter": "python",
      "pygments_lexer": "ipython3",
      "version": "3.10.9"
    }
  },
  "nbformat": 4,
  "nbformat_minor": 0
}