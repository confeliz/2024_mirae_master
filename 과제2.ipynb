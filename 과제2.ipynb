{
  "nbformat": 4,
  "nbformat_minor": 0,
  "metadata": {
    "colab": {
      "provenance": [],
      "toc_visible": true
    },
    "kernelspec": {
      "name": "python3",
      "display_name": "Python 3"
    },
    "language_info": {
      "name": "python"
    }
  },
  "cells": [
    {
      "cell_type": "markdown",
      "source": [
        "# 데이터셋 설명\n",
        "| 속성 | 의미 |\n",
        "|:----:|:----:|\n",
        "|mpg | 연비|\n",
        "|cylinders | 실린더 개수|\n",
        "|displacement|배기량|\n",
        "|horsepower|마력|\n",
        "|weight|무게|\n",
        "|acceleration|엔진이 초당 얻을 수 있는 가속력|\n",
        "|model year|모델 출시 년도|\n",
        "|origin|제조장소(1:미국, 2:유럽, 3:아시아)|\n",
        "|car name | 자동차 이름|\n"
      ],
      "metadata": {
        "id": "Xfjwb1_cKCdO"
      }
    },
    {
      "cell_type": "code",
      "source": [],
      "metadata": {
        "id": "SsIQkIRiwiXg"
      },
      "execution_count": null,
      "outputs": []
    },
    {
      "cell_type": "code",
      "source": [],
      "metadata": {
        "id": "_OWdBdzEws5Z"
      },
      "execution_count": null,
      "outputs": []
    },
    {
      "cell_type": "code",
      "source": [],
      "metadata": {
        "id": "xaByOW4mwuId"
      },
      "execution_count": null,
      "outputs": []
    },
    {
      "cell_type": "markdown",
      "source": [
        "# 1.데이터 전처리"
      ],
      "metadata": {
        "id": "Ay1QhEGJ-rD1"
      }
    },
    {
      "cell_type": "markdown",
      "source": [
        "## 1) horsepower 속성의 데이터 중 “?”의 값을 갖는 행을 삭제한다."
      ],
      "metadata": {
        "id": "8B7JPVZRTB5f"
      }
    },
    {
      "cell_type": "code",
      "source": [
        "\n"
      ],
      "metadata": {
        "id": "btDagbGy2hmx"
      },
      "execution_count": null,
      "outputs": []
    },
    {
      "cell_type": "markdown",
      "source": [
        "## 2) horsepower속성의 데이터형을 int64로 변환한다."
      ],
      "metadata": {
        "id": "Pg5tJMPQTUKW"
      }
    },
    {
      "cell_type": "code",
      "source": [],
      "metadata": {
        "id": "xE4d2-Su4MzQ"
      },
      "execution_count": null,
      "outputs": []
    },
    {
      "cell_type": "markdown",
      "source": [
        "## 3)'origin' 속성의 값 변환\n",
        " |원래 데이터|변환할 데이터|\n",
        " |:---------:|:-----------:|\n",
        " |    1      |  'USA'      |\n",
        " |    2      |  'Europe'   |\n",
        " |    3      |  'Asia'     |\n",
        "\n"
      ],
      "metadata": {
        "id": "C2qYYCeh_Lyj"
      }
    },
    {
      "cell_type": "code",
      "source": [],
      "metadata": {
        "id": "NaXEH5336xfM"
      },
      "execution_count": null,
      "outputs": []
    },
    {
      "cell_type": "code",
      "source": [],
      "metadata": {
        "id": "B5ZZGcPa6YZL"
      },
      "execution_count": null,
      "outputs": []
    },
    {
      "cell_type": "code",
      "source": [],
      "metadata": {
        "id": "QKkjSlGv7FXg"
      },
      "execution_count": null,
      "outputs": []
    },
    {
      "cell_type": "code",
      "source": [],
      "metadata": {
        "id": "ffkTIa9i7IxD"
      },
      "execution_count": null,
      "outputs": []
    },
    {
      "cell_type": "markdown",
      "source": [
        "# 2.각 변수 간의 상관관계를 히트맵으로 시각화하시오"
      ],
      "metadata": {
        "id": "k5MT6bZYAdn8"
      }
    },
    {
      "cell_type": "code",
      "source": [],
      "metadata": {
        "id": "kwaW6_ZCApZD"
      },
      "execution_count": null,
      "outputs": []
    },
    {
      "cell_type": "markdown",
      "source": [
        "# 3.제조 연도(model year)분포를 히스토그램으로 시각화하시오.\n",
        "- figure의 크기는 10,5\n",
        "- 히스토그램의 bins는 13"
      ],
      "metadata": {
        "id": "XRtXdUDiU-8e"
      }
    },
    {
      "cell_type": "code",
      "source": [],
      "metadata": {
        "id": "6pcPSMffA_TG"
      },
      "execution_count": null,
      "outputs": []
    },
    {
      "cell_type": "code",
      "source": [],
      "metadata": {
        "id": "pHawV0mQLqax"
      },
      "execution_count": null,
      "outputs": []
    }
  ]
}